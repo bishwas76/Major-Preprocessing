{
 "cells": [
  {
   "cell_type": "markdown",
   "id": "790f7ce7",
   "metadata": {},
   "source": [
    "# Conversion from Nepali Number to Devnagari Number\n",
    "Data initially is in combination of nepali numbers which needs to be converted into nepali Numbers in devnagari lipi for the better processing in the future."
   ]
  },
  {
   "cell_type": "code",
   "execution_count": 1,
   "id": "f5181a59",
   "metadata": {},
   "outputs": [],
   "source": [
    "def nepaliNumberToDevnagari(num):\n",
    "\n",
    "    #Create number list from 0 - 99\n",
    "    nepaliNumerals = ['०', '१', '२', '३', '४', '५', '६', '७', '८', '९']\n",
    "    numbers = []\n",
    "    for i in range(1, len(nepaliNumerals)):\n",
    "        for j in range(0, len(nepaliNumerals)):\n",
    "            numbers.append(nepaliNumerals[i]+nepaliNumerals[j])\n",
    "    nepaliNumerals = nepaliNumerals + numbers\n",
    "\n",
    "    # Create devanagari number list from 0 - 99\n",
    "    nepaliNumeralString = [\n",
    "        \"शुन्य\", \"एक\", \"दुई\", \"तीन\", \"चार\", \"पाँच\", \"छ\", \"सात\", \"आठ\", \"नौ\", \n",
    "        \"दश\", \"एघार\",\"बाह्र\", \"तेह्र\", 'चौध', 'पन्ध्र', 'सोह्र', 'सत्र', 'अठार', 'उन्नाइस', \n",
    "        'विस', 'एक्काइस', 'बाइस', 'तेईस', 'चौविस', 'पच्चिस', 'छब्बिस', 'सत्ताइस', 'अठ्ठाईस', 'उनन्तिस', \n",
    "        'तिस', 'एकत्तिस', 'बत्तिस', 'तेत्तिस', 'चौँतिस', 'पैँतिस', 'छत्तिस', 'सैँतीस', 'अठतीस', 'उनन्चालीस', \n",
    "        'चालीस', 'एकचालीस', 'बयालीस', 'त्रियालीस', 'चवालीस', 'पैँतालीस', 'छयालीस', 'सच्चालीस', 'अठचालीस', 'उनन्चास', \n",
    "        'पचास', 'एकाउन्न', 'बाउन्न', 'त्रिपन्न', 'चउन्न', 'पचपन्न', 'छपन्न', 'सन्ताउन्न', 'अन्ठाउन्न', 'उनन्साठी', \n",
    "        'साठी', 'एकसट्ठी', 'बयसट्ठी', 'त्रिसट्ठी', 'चौंसट्ठी', 'पैंसट्ठी', 'छयसट्ठी', 'सतसट्ठी', 'अठसट्ठी', 'उनन्सत्तरी', \n",
    "        'सत्तरी', 'एकहत्तर', 'बहत्तर', 'त्रिहत्तर', 'चौहत्तर', 'पचहत्तर', 'छयहत्तर', 'सतहत्तर', 'अठहत्तर', 'उनासी', \n",
    "        'असी', 'एकासी', 'बयासी', 'त्रियासी', 'चौरासी', 'पचासी', 'छयासी', 'सतासी', 'अठासी', 'उनान्नब्बे', \n",
    "        'नब्बे', 'एकान्नब्बे', 'बयानब्बे', 'त्रियान्नब्बे', 'चौरान्नब्बे', 'पन्चानब्बे', 'छयान्नब्बे', 'सन्तान्नब्बे', 'अन्ठान्नब्बे', 'उनान्सय'\n",
    "        ]\n",
    "\n",
    "    # Create dict using numbers to devnagarari\n",
    "    numberToDevnagariTo99 = {}\n",
    "    for i in range(0,len(nepaliNumeralString)):\n",
    "        numberToDevnagariTo99[nepaliNumerals[i]] = nepaliNumeralString[i]\n",
    "\n",
    "    # postion of 1 in 100, 1000,... places\n",
    "    TensPlaces = [\"सय\", \"हजार\", \"लाख\", \"करोड\", \"अर्ब\", \"खर्ब\", \"नील\", \"पद्म\", \"शंख\"]\n",
    "    tensplace = {}\n",
    "    a=3 # starts from 00\n",
    "    for i in range(0, len(TensPlaces)):\n",
    "        if a>4:\n",
    "            # removing 10 thousand and similar\n",
    "            a = a + 1\n",
    "        tensplace[a] = TensPlaces[i]\n",
    "        a = a + 1\n",
    "    \n",
    "    # Start of conversion\n",
    "    number_list = list(num)\n",
    "    length = len(number_list)\n",
    "    name = []\n",
    "    i = 0\n",
    "    while(i<length):\n",
    "        # loop starts\n",
    "        position = length - i\n",
    "        if position == 1:\n",
    "            # if in first position\n",
    "            name.append(numberToDevnagariTo99[num[i]])\n",
    "            break\n",
    "        elif position not in tensplace:\n",
    "            # if not exactly on     100, 1000, place\n",
    "            \n",
    "            if numberToDevnagariTo99[num[i]] == \"शुन्य\":\n",
    "                if numberToDevnagariTo99[num[i+1]] == \"शुन्य\":\n",
    "                    # If there is no value is tens and ones part of any i.e thousanth part ie. 10 thousand\n",
    "                    i = i + 2\n",
    "                    continue\n",
    "                # If there is no value is tens part but there is in ones part\n",
    "                name.append(numberToDevnagariTo99[num[i+1]])\n",
    "            else:\n",
    "                # If there is value in both tens and onces part\n",
    "                name.append(numberToDevnagariTo99[num[i]+num[i+1]])\n",
    "            i = i + 1\n",
    "            if position == 2:\n",
    "                # If onces and tens of whole number is done then end execution\n",
    "                break\n",
    "            position = length - i\n",
    "        else:\n",
    "            if not numberToDevnagariTo99[num[i]] == \"शुन्य\":\n",
    "                # In 100's place\n",
    "                name.append(numberToDevnagariTo99[num[i]])   \n",
    "                name.append(tensplace[position])\n",
    "                i=i+1\n",
    "                continue\n",
    "        if position > 3:\n",
    "            # for above 100's place\n",
    "            name.append(tensplace[position])\n",
    "        \n",
    "        i = i + 1\n",
    "    return \" \".join(name)   # Join array as a string"
   ]
  },
  {
   "cell_type": "code",
   "execution_count": 2,
   "id": "0c723ac8",
   "metadata": {},
   "outputs": [
    {
     "data": {
      "text/plain": [
       "'पाँच हजार पाँच सय पचास'"
      ]
     },
     "execution_count": 2,
     "metadata": {},
     "output_type": "execute_result"
    }
   ],
   "source": [
    "# Checking\n",
    "nepaliNumberToDevnagari('५५५०')"
   ]
  }
 ],
 "metadata": {
  "kernelspec": {
   "display_name": "Python 3",
   "language": "python",
   "name": "python3"
  },
  "language_info": {
   "codemirror_mode": {
    "name": "ipython",
    "version": 3
   },
   "file_extension": ".py",
   "mimetype": "text/x-python",
   "name": "python",
   "nbconvert_exporter": "python",
   "pygments_lexer": "ipython3",
   "version": "3.9.6"
  }
 },
 "nbformat": 4,
 "nbformat_minor": 5
}
