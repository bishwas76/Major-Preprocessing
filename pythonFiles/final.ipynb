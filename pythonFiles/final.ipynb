{
 "cells": [
  {
   "cell_type": "code",
   "execution_count": 1,
   "id": "ba776ab6-6ca3-4294-be4b-f3c266f7f307",
   "metadata": {},
   "outputs": [],
   "source": [
    "from modules.create_MFCC_h5_File import create_mfcc_h5_for_dataframe, read_h5_file\n",
    "from modules.audio_file_load import processingDataFrame"
   ]
  },
  {
   "cell_type": "code",
   "execution_count": 2,
   "id": "221a605e-c07c-42cc-8c2c-8d9648a82070",
   "metadata": {},
   "outputs": [],
   "source": [
    "import warnings\n",
    "warnings.filterwarnings('ignore')"
   ]
  },
  {
   "cell_type": "markdown",
   "id": "73dd731f-9a82-43e7-825c-444d85cc1275",
   "metadata": {},
   "source": [
    "To remove warning that appear due to decoding fallback"
   ]
  },
  {
   "cell_type": "markdown",
   "id": "a8ba7c7e-51bc-4d47-9a82-bd32f268cb44",
   "metadata": {},
   "source": [
    "## Loading dataframe"
   ]
  },
  {
   "cell_type": "code",
   "execution_count": 3,
   "id": "206e3eae-42f9-499c-8535-d0987c0778c6",
   "metadata": {
    "scrolled": true,
    "tags": []
   },
   "outputs": [
    {
     "data": {
      "text/html": [
       "<div>\n",
       "<style scoped>\n",
       "    .dataframe tbody tr th:only-of-type {\n",
       "        vertical-align: middle;\n",
       "    }\n",
       "\n",
       "    .dataframe tbody tr th {\n",
       "        vertical-align: top;\n",
       "    }\n",
       "\n",
       "    .dataframe thead th {\n",
       "        text-align: right;\n",
       "    }\n",
       "</style>\n",
       "<table border=\"1\" class=\"dataframe\">\n",
       "  <thead>\n",
       "    <tr style=\"text-align: right;\">\n",
       "      <th></th>\n",
       "      <th>_id</th>\n",
       "      <th>userId</th>\n",
       "      <th>fileName</th>\n",
       "      <th>gender</th>\n",
       "      <th>devnagariSentence</th>\n",
       "    </tr>\n",
       "  </thead>\n",
       "  <tbody>\n",
       "    <tr>\n",
       "      <th>0</th>\n",
       "      <td>60e2d811552fd6002e30b8fd</td>\n",
       "      <td>L5WMnUqwFRlZUFg48A4DRu9dYwP9srB5s2cqsA/rDZg=</td>\n",
       "      <td>dd42d217-11b5-4107-b8c5-8c60939db63c</td>\n",
       "      <td>male</td>\n",
       "      <td>रोमान्चक बनेको खेलमा बुलबुलेले आर्मीलाई विस-पच...</td>\n",
       "    </tr>\n",
       "    <tr>\n",
       "      <th>1</th>\n",
       "      <td>60e2d964552fd6002e30b901</td>\n",
       "      <td>4UO9IETvAMYKoPU5GhL4DRjqb5rNgF1FpAKkyXQ9v/c=</td>\n",
       "      <td>744f492e-8e7f-4a1e-a13e-d65a0f0716c4</td>\n",
       "      <td>male</td>\n",
       "      <td>आईसीसी महिला टी-ट्वेन्टी विश्वकपको एसिया छनोट ...</td>\n",
       "    </tr>\n",
       "    <tr>\n",
       "      <th>2</th>\n",
       "      <td>61ab150e7526df002f75e921</td>\n",
       "      <td>3upRZGf2oFJMajP1LMVx5vNAMKY+PdM+rIdTvmQHUus=</td>\n",
       "      <td>cfea7257-9d98-481b-a4b2-aa8da3132cca</td>\n",
       "      <td>female</td>\n",
       "      <td>आईसीसी महिला टी-ट्वेन्टी विश्वकपको एसिया छनोट ...</td>\n",
       "    </tr>\n",
       "    <tr>\n",
       "      <th>3</th>\n",
       "      <td>60e2d958552fd6002e30b8fe</td>\n",
       "      <td>zcRQLjrvRyhg0PDjjhxlGJ1PoM7deRWnvlx08Ja1Wl4=</td>\n",
       "      <td>95ccf7f4-b198-4623-bcf8-45deb7f914e7</td>\n",
       "      <td>male</td>\n",
       "      <td>कार्यक्रममा राष्ट्रिय क्रिकेट टोलीका सदस्यहरुम...</td>\n",
       "    </tr>\n",
       "    <tr>\n",
       "      <th>4</th>\n",
       "      <td>60e2d98b552fd6002e30b903</td>\n",
       "      <td>4UO9IETvAMYKoPU5GhL4DRjqb5rNgF1FpAKkyXQ9v/c=</td>\n",
       "      <td>1ad1149b-be62-4099-8356-0e7c5f892374</td>\n",
       "      <td>male</td>\n",
       "      <td>तर त्यसपछि म रियल मड्रिडका लागि धेरै राम्रो गर...</td>\n",
       "    </tr>\n",
       "  </tbody>\n",
       "</table>\n",
       "</div>"
      ],
      "text/plain": [
       "                        _id                                        userId  \\\n",
       "0  60e2d811552fd6002e30b8fd  L5WMnUqwFRlZUFg48A4DRu9dYwP9srB5s2cqsA/rDZg=   \n",
       "1  60e2d964552fd6002e30b901  4UO9IETvAMYKoPU5GhL4DRjqb5rNgF1FpAKkyXQ9v/c=   \n",
       "2  61ab150e7526df002f75e921  3upRZGf2oFJMajP1LMVx5vNAMKY+PdM+rIdTvmQHUus=   \n",
       "3  60e2d958552fd6002e30b8fe  zcRQLjrvRyhg0PDjjhxlGJ1PoM7deRWnvlx08Ja1Wl4=   \n",
       "4  60e2d98b552fd6002e30b903  4UO9IETvAMYKoPU5GhL4DRjqb5rNgF1FpAKkyXQ9v/c=   \n",
       "\n",
       "                               fileName  gender  \\\n",
       "0  dd42d217-11b5-4107-b8c5-8c60939db63c    male   \n",
       "1  744f492e-8e7f-4a1e-a13e-d65a0f0716c4    male   \n",
       "2  cfea7257-9d98-481b-a4b2-aa8da3132cca  female   \n",
       "3  95ccf7f4-b198-4623-bcf8-45deb7f914e7    male   \n",
       "4  1ad1149b-be62-4099-8356-0e7c5f892374    male   \n",
       "\n",
       "                                   devnagariSentence  \n",
       "0  रोमान्चक बनेको खेलमा बुलबुलेले आर्मीलाई विस-पच...  \n",
       "1  आईसीसी महिला टी-ट्वेन्टी विश्वकपको एसिया छनोट ...  \n",
       "2  आईसीसी महिला टी-ट्वेन्टी विश्वकपको एसिया छनोट ...  \n",
       "3  कार्यक्रममा राष्ट्रिय क्रिकेट टोलीका सदस्यहरुम...  \n",
       "4  तर त्यसपछि म रियल मड्रिडका लागि धेरै राम्रो गर...  "
      ]
     },
     "execution_count": 3,
     "metadata": {},
     "output_type": "execute_result"
    }
   ],
   "source": [
    "proc_df = processingDataFrame()\n",
    "df = proc_df.get_dataFrame()\n",
    "df.head()"
   ]
  },
  {
   "cell_type": "markdown",
   "id": "f6bfa4db-368f-4f6b-b870-49e56784959a",
   "metadata": {},
   "source": [
    "## Create a h5 file with dataframe so that it can be shared"
   ]
  },
  {
   "cell_type": "code",
   "execution_count": 4,
   "id": "59b9d95d-4dfa-4166-aa05-82113fef1950",
   "metadata": {
    "scrolled": true,
    "tags": []
   },
   "outputs": [
    {
     "name": "stdout",
     "output_type": "stream",
     "text": [
      "Progress:\n",
      "[ - - - - - - - - - - - - - - - - - - - - - - - - - - - - - - - - - - - - - - - - - - - - - - - - - - - - - - - - - - - - - - - - - - - - - - - - - - - - - - - - - - - - - - - - - - - - - - - - - - - - - - - - - - - - - - - - - - - - - - - - - - - - - - - - - - - - - - - - - - - - - - - - - - - - - - - - - - - - - - - - - - - - - - - - - - - - - - - - - - - - - - - - - - - - - - - - - - - - - - - - - - - - - - - - - - - - - - - - - - - - - - - - - - - - - - - - - - - - - - - - - - - - - - - - - - - - - - - - - - - - - - - - - - - - - - - - - - - - - - - - - - - - - - - - - - - - - - - - - - - - - - - - - - - - - - - - - - - - - - - - - - - - - - - - - - - - - - - - - - - - - - - - - - - - - - - - - - - - - - - - ]\n",
      "CPU times: user 7min 51s, sys: 28.3 s, total: 8min 20s\n",
      "Wall time: 7min 4s\n"
     ]
    }
   ],
   "source": [
    "%%time\n",
    "create_mfcc_h5_for_dataframe(df, normalized=True)"
   ]
  },
  {
   "cell_type": "code",
   "execution_count": 8,
   "id": "2658938c-086c-4148-bc82-be51836952f7",
   "metadata": {},
   "outputs": [
    {
     "data": {
      "text/plain": [
       "(39, 750)"
      ]
     },
     "execution_count": 8,
     "metadata": {},
     "output_type": "execute_result"
    }
   ],
   "source": [
    "read_h5_file(title=df[\"fileName\"][0]).shape"
   ]
  },
  {
   "cell_type": "code",
   "execution_count": null,
   "id": "527def08-edb9-4d2e-9e5f-f8563965c6e3",
   "metadata": {},
   "outputs": [],
   "source": []
  }
 ],
 "metadata": {
  "kernelspec": {
   "display_name": "Python 3 (ipykernel)",
   "language": "python",
   "name": "python3"
  },
  "language_info": {
   "codemirror_mode": {
    "name": "ipython",
    "version": 3
   },
   "file_extension": ".py",
   "mimetype": "text/x-python",
   "name": "python",
   "nbconvert_exporter": "python",
   "pygments_lexer": "ipython3",
   "version": "3.9.7"
  }
 },
 "nbformat": 4,
 "nbformat_minor": 5
}
