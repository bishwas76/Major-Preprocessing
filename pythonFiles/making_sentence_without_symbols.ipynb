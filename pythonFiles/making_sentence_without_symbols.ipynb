{
 "cells": [
  {
   "cell_type": "code",
   "execution_count": 1,
   "id": "4abb1291-b77b-47cf-ad4e-ffcd187a750b",
   "metadata": {},
   "outputs": [],
   "source": [
    "from modules.symbols_remove import replaceCharacters\n",
    "from modules.audio_file_load import processingDataFrame"
   ]
  },
  {
   "cell_type": "code",
   "execution_count": 2,
   "id": "f90d4d8b-ec06-450a-93f4-0fc50ed89b36",
   "metadata": {},
   "outputs": [],
   "source": [
    "df_obj = processingDataFrame()"
   ]
  },
  {
   "cell_type": "code",
   "execution_count": 3,
   "id": "6c171c4f-602a-4d5c-9f11-d2b25e29e4a0",
   "metadata": {},
   "outputs": [],
   "source": [
    "df = df_obj.get_dataFrame()"
   ]
  },
  {
   "cell_type": "code",
   "execution_count": 4,
   "id": "b42e4047-a558-4a23-b08f-b09fab90d74c",
   "metadata": {},
   "outputs": [
    {
     "data": {
      "text/html": [
       "<div>\n",
       "<style scoped>\n",
       "    .dataframe tbody tr th:only-of-type {\n",
       "        vertical-align: middle;\n",
       "    }\n",
       "\n",
       "    .dataframe tbody tr th {\n",
       "        vertical-align: top;\n",
       "    }\n",
       "\n",
       "    .dataframe thead th {\n",
       "        text-align: right;\n",
       "    }\n",
       "</style>\n",
       "<table border=\"1\" class=\"dataframe\">\n",
       "  <thead>\n",
       "    <tr style=\"text-align: right;\">\n",
       "      <th></th>\n",
       "      <th>_id</th>\n",
       "      <th>userId</th>\n",
       "      <th>fileName</th>\n",
       "      <th>gender</th>\n",
       "      <th>devnagariSentence</th>\n",
       "    </tr>\n",
       "  </thead>\n",
       "  <tbody>\n",
       "    <tr>\n",
       "      <th>0</th>\n",
       "      <td>60e2d811552fd6002e30b8fd</td>\n",
       "      <td>L5WMnUqwFRlZUFg48A4DRu9dYwP9srB5s2cqsA/rDZg=</td>\n",
       "      <td>dd42d217-11b5-4107-b8c5-8c60939db63c</td>\n",
       "      <td>male</td>\n",
       "      <td>रोमान्चक बनेको खेलमा बुलबुलेले आर्मीलाई विस-पच...</td>\n",
       "    </tr>\n",
       "    <tr>\n",
       "      <th>1</th>\n",
       "      <td>60e2d964552fd6002e30b901</td>\n",
       "      <td>4UO9IETvAMYKoPU5GhL4DRjqb5rNgF1FpAKkyXQ9v/c=</td>\n",
       "      <td>744f492e-8e7f-4a1e-a13e-d65a0f0716c4</td>\n",
       "      <td>male</td>\n",
       "      <td>आईसीसी महिला टी-ट्वेन्टी विश्वकपको एसिया छनोट ...</td>\n",
       "    </tr>\n",
       "    <tr>\n",
       "      <th>2</th>\n",
       "      <td>61ab150e7526df002f75e921</td>\n",
       "      <td>3upRZGf2oFJMajP1LMVx5vNAMKY+PdM+rIdTvmQHUus=</td>\n",
       "      <td>cfea7257-9d98-481b-a4b2-aa8da3132cca</td>\n",
       "      <td>female</td>\n",
       "      <td>आईसीसी महिला टी-ट्वेन्टी विश्वकपको एसिया छनोट ...</td>\n",
       "    </tr>\n",
       "    <tr>\n",
       "      <th>3</th>\n",
       "      <td>60e2d958552fd6002e30b8fe</td>\n",
       "      <td>zcRQLjrvRyhg0PDjjhxlGJ1PoM7deRWnvlx08Ja1Wl4=</td>\n",
       "      <td>95ccf7f4-b198-4623-bcf8-45deb7f914e7</td>\n",
       "      <td>male</td>\n",
       "      <td>कार्यक्रममा राष्ट्रिय क्रिकेट टोलीका सदस्यहरुम...</td>\n",
       "    </tr>\n",
       "    <tr>\n",
       "      <th>4</th>\n",
       "      <td>60e2d98b552fd6002e30b903</td>\n",
       "      <td>4UO9IETvAMYKoPU5GhL4DRjqb5rNgF1FpAKkyXQ9v/c=</td>\n",
       "      <td>1ad1149b-be62-4099-8356-0e7c5f892374</td>\n",
       "      <td>male</td>\n",
       "      <td>तर त्यसपछि म रियल मड्रिडका लागि धेरै राम्रो गर...</td>\n",
       "    </tr>\n",
       "  </tbody>\n",
       "</table>\n",
       "</div>"
      ],
      "text/plain": [
       "                        _id                                        userId  \\\n",
       "0  60e2d811552fd6002e30b8fd  L5WMnUqwFRlZUFg48A4DRu9dYwP9srB5s2cqsA/rDZg=   \n",
       "1  60e2d964552fd6002e30b901  4UO9IETvAMYKoPU5GhL4DRjqb5rNgF1FpAKkyXQ9v/c=   \n",
       "2  61ab150e7526df002f75e921  3upRZGf2oFJMajP1LMVx5vNAMKY+PdM+rIdTvmQHUus=   \n",
       "3  60e2d958552fd6002e30b8fe  zcRQLjrvRyhg0PDjjhxlGJ1PoM7deRWnvlx08Ja1Wl4=   \n",
       "4  60e2d98b552fd6002e30b903  4UO9IETvAMYKoPU5GhL4DRjqb5rNgF1FpAKkyXQ9v/c=   \n",
       "\n",
       "                               fileName  gender  \\\n",
       "0  dd42d217-11b5-4107-b8c5-8c60939db63c    male   \n",
       "1  744f492e-8e7f-4a1e-a13e-d65a0f0716c4    male   \n",
       "2  cfea7257-9d98-481b-a4b2-aa8da3132cca  female   \n",
       "3  95ccf7f4-b198-4623-bcf8-45deb7f914e7    male   \n",
       "4  1ad1149b-be62-4099-8356-0e7c5f892374    male   \n",
       "\n",
       "                                   devnagariSentence  \n",
       "0  रोमान्चक बनेको खेलमा बुलबुलेले आर्मीलाई विस-पच...  \n",
       "1  आईसीसी महिला टी-ट्वेन्टी विश्वकपको एसिया छनोट ...  \n",
       "2  आईसीसी महिला टी-ट्वेन्टी विश्वकपको एसिया छनोट ...  \n",
       "3  कार्यक्रममा राष्ट्रिय क्रिकेट टोलीका सदस्यहरुम...  \n",
       "4  तर त्यसपछि म रियल मड्रिडका लागि धेरै राम्रो गर...  "
      ]
     },
     "execution_count": 4,
     "metadata": {},
     "output_type": "execute_result"
    }
   ],
   "source": [
    "df.head()"
   ]
  },
  {
   "cell_type": "code",
   "execution_count": 5,
   "id": "0b0996ca-5ee8-4ce0-9efe-a19e86e2bb53",
   "metadata": {},
   "outputs": [
    {
     "data": {
      "text/plain": [
       "710"
      ]
     },
     "execution_count": 5,
     "metadata": {},
     "output_type": "execute_result"
    }
   ],
   "source": [
    "df.shape[0]"
   ]
  },
  {
   "cell_type": "code",
   "execution_count": 6,
   "id": "ff597745-7149-49bb-a260-510ada8e3ca8",
   "metadata": {},
   "outputs": [],
   "source": [
    "list_of_symbol_removed_sentence = []\n",
    "for i in range(0, df.shape[0]):\n",
    "    list_of_symbol_removed_sentence.append(replaceCharacters(df.iloc[i,4]))"
   ]
  },
  {
   "cell_type": "code",
   "execution_count": 8,
   "id": "9d17ccfc-153e-42b1-aa50-a1e148fe4b7a",
   "metadata": {},
   "outputs": [],
   "source": [
    "df[\"sentence\"] = list_of_symbol_removed_sentence"
   ]
  },
  {
   "cell_type": "code",
   "execution_count": 9,
   "id": "d7513a57-8cde-47ca-aa30-bdee57c9db39",
   "metadata": {},
   "outputs": [
    {
     "data": {
      "text/html": [
       "<div>\n",
       "<style scoped>\n",
       "    .dataframe tbody tr th:only-of-type {\n",
       "        vertical-align: middle;\n",
       "    }\n",
       "\n",
       "    .dataframe tbody tr th {\n",
       "        vertical-align: top;\n",
       "    }\n",
       "\n",
       "    .dataframe thead th {\n",
       "        text-align: right;\n",
       "    }\n",
       "</style>\n",
       "<table border=\"1\" class=\"dataframe\">\n",
       "  <thead>\n",
       "    <tr style=\"text-align: right;\">\n",
       "      <th></th>\n",
       "      <th>_id</th>\n",
       "      <th>userId</th>\n",
       "      <th>fileName</th>\n",
       "      <th>gender</th>\n",
       "      <th>devnagariSentence</th>\n",
       "      <th>sentence</th>\n",
       "    </tr>\n",
       "  </thead>\n",
       "  <tbody>\n",
       "    <tr>\n",
       "      <th>0</th>\n",
       "      <td>60e2d811552fd6002e30b8fd</td>\n",
       "      <td>L5WMnUqwFRlZUFg48A4DRu9dYwP9srB5s2cqsA/rDZg=</td>\n",
       "      <td>dd42d217-11b5-4107-b8c5-8c60939db63c</td>\n",
       "      <td>male</td>\n",
       "      <td>रोमान्चक बनेको खेलमा बुलबुलेले आर्मीलाई विस-पच...</td>\n",
       "      <td>रोमान्चक बनेको खेलमा बुलबुलेले आर्मीलाई विस पच...</td>\n",
       "    </tr>\n",
       "    <tr>\n",
       "      <th>1</th>\n",
       "      <td>60e2d964552fd6002e30b901</td>\n",
       "      <td>4UO9IETvAMYKoPU5GhL4DRjqb5rNgF1FpAKkyXQ9v/c=</td>\n",
       "      <td>744f492e-8e7f-4a1e-a13e-d65a0f0716c4</td>\n",
       "      <td>male</td>\n",
       "      <td>आईसीसी महिला टी-ट्वेन्टी विश्वकपको एसिया छनोट ...</td>\n",
       "      <td>आईसीसी महिला टी ट्वेन्टी विश्वकपको एसिया छनोट ...</td>\n",
       "    </tr>\n",
       "    <tr>\n",
       "      <th>2</th>\n",
       "      <td>61ab150e7526df002f75e921</td>\n",
       "      <td>3upRZGf2oFJMajP1LMVx5vNAMKY+PdM+rIdTvmQHUus=</td>\n",
       "      <td>cfea7257-9d98-481b-a4b2-aa8da3132cca</td>\n",
       "      <td>female</td>\n",
       "      <td>आईसीसी महिला टी-ट्वेन्टी विश्वकपको एसिया छनोट ...</td>\n",
       "      <td>आईसीसी महिला टी ट्वेन्टी विश्वकपको एसिया छनोट ...</td>\n",
       "    </tr>\n",
       "    <tr>\n",
       "      <th>3</th>\n",
       "      <td>60e2d958552fd6002e30b8fe</td>\n",
       "      <td>zcRQLjrvRyhg0PDjjhxlGJ1PoM7deRWnvlx08Ja1Wl4=</td>\n",
       "      <td>95ccf7f4-b198-4623-bcf8-45deb7f914e7</td>\n",
       "      <td>male</td>\n",
       "      <td>कार्यक्रममा राष्ट्रिय क्रिकेट टोलीका सदस्यहरुम...</td>\n",
       "      <td>कार्यक्रममा राष्ट्रिय क्रिकेट टोलीका सदस्यहरुम...</td>\n",
       "    </tr>\n",
       "    <tr>\n",
       "      <th>4</th>\n",
       "      <td>60e2d98b552fd6002e30b903</td>\n",
       "      <td>4UO9IETvAMYKoPU5GhL4DRjqb5rNgF1FpAKkyXQ9v/c=</td>\n",
       "      <td>1ad1149b-be62-4099-8356-0e7c5f892374</td>\n",
       "      <td>male</td>\n",
       "      <td>तर त्यसपछि म रियल मड्रिडका लागि धेरै राम्रो गर...</td>\n",
       "      <td>तर त्यसपछि म रियल मड्रिडका लागि धेरै राम्रो गर...</td>\n",
       "    </tr>\n",
       "  </tbody>\n",
       "</table>\n",
       "</div>"
      ],
      "text/plain": [
       "                        _id                                        userId  \\\n",
       "0  60e2d811552fd6002e30b8fd  L5WMnUqwFRlZUFg48A4DRu9dYwP9srB5s2cqsA/rDZg=   \n",
       "1  60e2d964552fd6002e30b901  4UO9IETvAMYKoPU5GhL4DRjqb5rNgF1FpAKkyXQ9v/c=   \n",
       "2  61ab150e7526df002f75e921  3upRZGf2oFJMajP1LMVx5vNAMKY+PdM+rIdTvmQHUus=   \n",
       "3  60e2d958552fd6002e30b8fe  zcRQLjrvRyhg0PDjjhxlGJ1PoM7deRWnvlx08Ja1Wl4=   \n",
       "4  60e2d98b552fd6002e30b903  4UO9IETvAMYKoPU5GhL4DRjqb5rNgF1FpAKkyXQ9v/c=   \n",
       "\n",
       "                               fileName  gender  \\\n",
       "0  dd42d217-11b5-4107-b8c5-8c60939db63c    male   \n",
       "1  744f492e-8e7f-4a1e-a13e-d65a0f0716c4    male   \n",
       "2  cfea7257-9d98-481b-a4b2-aa8da3132cca  female   \n",
       "3  95ccf7f4-b198-4623-bcf8-45deb7f914e7    male   \n",
       "4  1ad1149b-be62-4099-8356-0e7c5f892374    male   \n",
       "\n",
       "                                   devnagariSentence  \\\n",
       "0  रोमान्चक बनेको खेलमा बुलबुलेले आर्मीलाई विस-पच...   \n",
       "1  आईसीसी महिला टी-ट्वेन्टी विश्वकपको एसिया छनोट ...   \n",
       "2  आईसीसी महिला टी-ट्वेन्टी विश्वकपको एसिया छनोट ...   \n",
       "3  कार्यक्रममा राष्ट्रिय क्रिकेट टोलीका सदस्यहरुम...   \n",
       "4  तर त्यसपछि म रियल मड्रिडका लागि धेरै राम्रो गर...   \n",
       "\n",
       "                                            sentence  \n",
       "0  रोमान्चक बनेको खेलमा बुलबुलेले आर्मीलाई विस पच...  \n",
       "1  आईसीसी महिला टी ट्वेन्टी विश्वकपको एसिया छनोट ...  \n",
       "2  आईसीसी महिला टी ट्वेन्टी विश्वकपको एसिया छनोट ...  \n",
       "3  कार्यक्रममा राष्ट्रिय क्रिकेट टोलीका सदस्यहरुम...  \n",
       "4  तर त्यसपछि म रियल मड्रिडका लागि धेरै राम्रो गर...  "
      ]
     },
     "execution_count": 9,
     "metadata": {},
     "output_type": "execute_result"
    }
   ],
   "source": [
    "df.head()"
   ]
  },
  {
   "cell_type": "code",
   "execution_count": 10,
   "id": "1c115e14-8d0e-4d2a-ac1f-9eacaa2fe28d",
   "metadata": {},
   "outputs": [],
   "source": [
    "df.drop(labels='devnagariSentence', axis=1, inplace=True)"
   ]
  },
  {
   "cell_type": "code",
   "execution_count": 11,
   "id": "92cfa923-f666-4d2f-ba5f-7bbb25416b4e",
   "metadata": {},
   "outputs": [
    {
     "data": {
      "text/html": [
       "<div>\n",
       "<style scoped>\n",
       "    .dataframe tbody tr th:only-of-type {\n",
       "        vertical-align: middle;\n",
       "    }\n",
       "\n",
       "    .dataframe tbody tr th {\n",
       "        vertical-align: top;\n",
       "    }\n",
       "\n",
       "    .dataframe thead th {\n",
       "        text-align: right;\n",
       "    }\n",
       "</style>\n",
       "<table border=\"1\" class=\"dataframe\">\n",
       "  <thead>\n",
       "    <tr style=\"text-align: right;\">\n",
       "      <th></th>\n",
       "      <th>_id</th>\n",
       "      <th>userId</th>\n",
       "      <th>fileName</th>\n",
       "      <th>gender</th>\n",
       "      <th>sentence</th>\n",
       "    </tr>\n",
       "  </thead>\n",
       "  <tbody>\n",
       "    <tr>\n",
       "      <th>0</th>\n",
       "      <td>60e2d811552fd6002e30b8fd</td>\n",
       "      <td>L5WMnUqwFRlZUFg48A4DRu9dYwP9srB5s2cqsA/rDZg=</td>\n",
       "      <td>dd42d217-11b5-4107-b8c5-8c60939db63c</td>\n",
       "      <td>male</td>\n",
       "      <td>रोमान्चक बनेको खेलमा बुलबुलेले आर्मीलाई विस पच...</td>\n",
       "    </tr>\n",
       "    <tr>\n",
       "      <th>1</th>\n",
       "      <td>60e2d964552fd6002e30b901</td>\n",
       "      <td>4UO9IETvAMYKoPU5GhL4DRjqb5rNgF1FpAKkyXQ9v/c=</td>\n",
       "      <td>744f492e-8e7f-4a1e-a13e-d65a0f0716c4</td>\n",
       "      <td>male</td>\n",
       "      <td>आईसीसी महिला टी ट्वेन्टी विश्वकपको एसिया छनोट ...</td>\n",
       "    </tr>\n",
       "    <tr>\n",
       "      <th>2</th>\n",
       "      <td>61ab150e7526df002f75e921</td>\n",
       "      <td>3upRZGf2oFJMajP1LMVx5vNAMKY+PdM+rIdTvmQHUus=</td>\n",
       "      <td>cfea7257-9d98-481b-a4b2-aa8da3132cca</td>\n",
       "      <td>female</td>\n",
       "      <td>आईसीसी महिला टी ट्वेन्टी विश्वकपको एसिया छनोट ...</td>\n",
       "    </tr>\n",
       "    <tr>\n",
       "      <th>3</th>\n",
       "      <td>60e2d958552fd6002e30b8fe</td>\n",
       "      <td>zcRQLjrvRyhg0PDjjhxlGJ1PoM7deRWnvlx08Ja1Wl4=</td>\n",
       "      <td>95ccf7f4-b198-4623-bcf8-45deb7f914e7</td>\n",
       "      <td>male</td>\n",
       "      <td>कार्यक्रममा राष्ट्रिय क्रिकेट टोलीका सदस्यहरुम...</td>\n",
       "    </tr>\n",
       "    <tr>\n",
       "      <th>4</th>\n",
       "      <td>60e2d98b552fd6002e30b903</td>\n",
       "      <td>4UO9IETvAMYKoPU5GhL4DRjqb5rNgF1FpAKkyXQ9v/c=</td>\n",
       "      <td>1ad1149b-be62-4099-8356-0e7c5f892374</td>\n",
       "      <td>male</td>\n",
       "      <td>तर त्यसपछि म रियल मड्रिडका लागि धेरै राम्रो गर...</td>\n",
       "    </tr>\n",
       "  </tbody>\n",
       "</table>\n",
       "</div>"
      ],
      "text/plain": [
       "                        _id                                        userId  \\\n",
       "0  60e2d811552fd6002e30b8fd  L5WMnUqwFRlZUFg48A4DRu9dYwP9srB5s2cqsA/rDZg=   \n",
       "1  60e2d964552fd6002e30b901  4UO9IETvAMYKoPU5GhL4DRjqb5rNgF1FpAKkyXQ9v/c=   \n",
       "2  61ab150e7526df002f75e921  3upRZGf2oFJMajP1LMVx5vNAMKY+PdM+rIdTvmQHUus=   \n",
       "3  60e2d958552fd6002e30b8fe  zcRQLjrvRyhg0PDjjhxlGJ1PoM7deRWnvlx08Ja1Wl4=   \n",
       "4  60e2d98b552fd6002e30b903  4UO9IETvAMYKoPU5GhL4DRjqb5rNgF1FpAKkyXQ9v/c=   \n",
       "\n",
       "                               fileName  gender  \\\n",
       "0  dd42d217-11b5-4107-b8c5-8c60939db63c    male   \n",
       "1  744f492e-8e7f-4a1e-a13e-d65a0f0716c4    male   \n",
       "2  cfea7257-9d98-481b-a4b2-aa8da3132cca  female   \n",
       "3  95ccf7f4-b198-4623-bcf8-45deb7f914e7    male   \n",
       "4  1ad1149b-be62-4099-8356-0e7c5f892374    male   \n",
       "\n",
       "                                            sentence  \n",
       "0  रोमान्चक बनेको खेलमा बुलबुलेले आर्मीलाई विस पच...  \n",
       "1  आईसीसी महिला टी ट्वेन्टी विश्वकपको एसिया छनोट ...  \n",
       "2  आईसीसी महिला टी ट्वेन्टी विश्वकपको एसिया छनोट ...  \n",
       "3  कार्यक्रममा राष्ट्रिय क्रिकेट टोलीका सदस्यहरुम...  \n",
       "4  तर त्यसपछि म रियल मड्रिडका लागि धेरै राम्रो गर...  "
      ]
     },
     "execution_count": 11,
     "metadata": {},
     "output_type": "execute_result"
    }
   ],
   "source": [
    "df.head()"
   ]
  },
  {
   "cell_type": "code",
   "execution_count": 12,
   "id": "154b39db-cf79-4579-a0ab-f7827d201789",
   "metadata": {},
   "outputs": [],
   "source": [
    "df.to_csv('./labels/final_fixed.csv', index=False)"
   ]
  },
  {
   "cell_type": "code",
   "execution_count": null,
   "id": "c80c3c92-332d-4c67-af52-fd991352a33e",
   "metadata": {},
   "outputs": [],
   "source": []
  }
 ],
 "metadata": {
  "kernelspec": {
   "display_name": "Python 3 (ipykernel)",
   "language": "python",
   "name": "python3"
  },
  "language_info": {
   "codemirror_mode": {
    "name": "ipython",
    "version": 3
   },
   "file_extension": ".py",
   "mimetype": "text/x-python",
   "name": "python",
   "nbconvert_exporter": "python",
   "pygments_lexer": "ipython3",
   "version": "3.9.7"
  }
 },
 "nbformat": 4,
 "nbformat_minor": 5
}
