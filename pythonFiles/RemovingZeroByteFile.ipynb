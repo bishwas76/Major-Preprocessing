{
 "cells": [
  {
   "cell_type": "markdown",
   "id": "7343ca98",
   "metadata": {},
   "source": [
    "# Preprocessing of audio files\n",
    "This notebook contains preprocessing steps for audio processing."
   ]
  },
  {
   "cell_type": "markdown",
   "id": "69090142",
   "metadata": {},
   "source": [
    "## Importing required libraries"
   ]
  },
  {
   "cell_type": "code",
   "execution_count": 1,
   "id": "bdc04221",
   "metadata": {},
   "outputs": [],
   "source": [
    "import numpy as np\n",
    "import pandas as pd\n",
    "import matplotlib.pyplot as plt\n",
    "\n",
    "import pyaudio\n",
    "import os\n",
    "import json\n",
    "\n",
    "%matplotlib inline"
   ]
  },
  {
   "cell_type": "markdown",
   "id": "3709eff7",
   "metadata": {},
   "source": [
    "## Getting audio file name and it's size\n",
    "There are files with 0 size i.e. empty file which occured due to recording error"
   ]
  },
  {
   "cell_type": "code",
   "execution_count": 2,
   "id": "9592f50f",
   "metadata": {},
   "outputs": [],
   "source": [
    "path = os.path.abspath(os.getcwd())"
   ]
  },
  {
   "cell_type": "code",
   "execution_count": 3,
   "id": "77b0fbfd",
   "metadata": {},
   "outputs": [
    {
     "data": {
      "text/plain": [
       "'/run/media/rajm/programs/Projects/major-project-processing/pythonFiles/audioFiles'"
      ]
     },
     "execution_count": 3,
     "metadata": {},
     "output_type": "execute_result"
    }
   ],
   "source": [
    "file_path = os.path.join(path, 'audioFiles')\n",
    "file_path"
   ]
  },
  {
   "cell_type": "code",
   "execution_count": 4,
   "id": "3e826f47",
   "metadata": {},
   "outputs": [
    {
     "data": {
      "text/plain": [
       "['00538947-3390-4449-88ee-c3e719aa0261.wav',\n",
       " '00678de1-0f90-4cca-9361-3ccef5351104.wav',\n",
       " '01a78071-c22a-4303-bfc6-ff20858c7cc5.wav',\n",
       " '0291ed0f-bfa7-4d9d-8feb-34791aab8f64.wav',\n",
       " '02d7037d-7f08-4b2e-b7f0-35ee5589b06e.wav']"
      ]
     },
     "execution_count": 4,
     "metadata": {},
     "output_type": "execute_result"
    }
   ],
   "source": [
    "file_list = [x for x in os.listdir(file_path) if x.split('.')[-1]=='wav']\n",
    "file_list[:5]"
   ]
  },
  {
   "cell_type": "code",
   "execution_count": 5,
   "id": "68c6c1b3",
   "metadata": {},
   "outputs": [
    {
     "data": {
      "text/plain": [
       "[70842, 88626, 0, 30485, 26866]"
      ]
     },
     "execution_count": 5,
     "metadata": {},
     "output_type": "execute_result"
    }
   ],
   "source": [
    "file_size = [os.stat(os.path.join(file_path, x)).st_size for x in file_list]\n",
    "file_size[:5]"
   ]
  },
  {
   "cell_type": "markdown",
   "id": "378fadcd",
   "metadata": {},
   "source": [
    "## Loading Labels"
   ]
  },
  {
   "cell_type": "code",
   "execution_count": 6,
   "id": "38d5f605",
   "metadata": {},
   "outputs": [
    {
     "data": {
      "text/plain": [
       "'/run/media/rajm/programs/Projects/major-project-processing/pythonFiles/labels/data.json'"
      ]
     },
     "execution_count": 6,
     "metadata": {},
     "output_type": "execute_result"
    }
   ],
   "source": [
    "json_file = os.path.join(path, 'labels/data.json')\n",
    "json_file"
   ]
  },
  {
   "cell_type": "code",
   "execution_count": 7,
   "id": "e7586448",
   "metadata": {},
   "outputs": [
    {
     "data": {
      "text/html": [
       "<div>\n",
       "<style scoped>\n",
       "    .dataframe tbody tr th:only-of-type {\n",
       "        vertical-align: middle;\n",
       "    }\n",
       "\n",
       "    .dataframe tbody tr th {\n",
       "        vertical-align: top;\n",
       "    }\n",
       "\n",
       "    .dataframe thead th {\n",
       "        text-align: right;\n",
       "    }\n",
       "</style>\n",
       "<table border=\"1\" class=\"dataframe\">\n",
       "  <thead>\n",
       "    <tr style=\"text-align: right;\">\n",
       "      <th></th>\n",
       "      <th>_id</th>\n",
       "      <th>userId</th>\n",
       "      <th>sentenceId</th>\n",
       "      <th>fileName</th>\n",
       "      <th>gender</th>\n",
       "    </tr>\n",
       "  </thead>\n",
       "  <tbody>\n",
       "    <tr>\n",
       "      <th>0</th>\n",
       "      <td>60e2d7ed552fd6002e30b8fc</td>\n",
       "      <td>FzlNJ/+dBGudrigpiH+9U9MlEqeHvOslfj66OxVrv4g=</td>\n",
       "      <td>4608</td>\n",
       "      <td>96b10244-694c-460e-bc1a-e60210c94844</td>\n",
       "      <td>male</td>\n",
       "    </tr>\n",
       "    <tr>\n",
       "      <th>1</th>\n",
       "      <td>60e2d811552fd6002e30b8fd</td>\n",
       "      <td>L5WMnUqwFRlZUFg48A4DRu9dYwP9srB5s2cqsA/rDZg=</td>\n",
       "      <td>7367</td>\n",
       "      <td>dd42d217-11b5-4107-b8c5-8c60939db63c</td>\n",
       "      <td>male</td>\n",
       "    </tr>\n",
       "    <tr>\n",
       "      <th>2</th>\n",
       "      <td>60e2d958552fd6002e30b8fe</td>\n",
       "      <td>zcRQLjrvRyhg0PDjjhxlGJ1PoM7deRWnvlx08Ja1Wl4=</td>\n",
       "      <td>8460</td>\n",
       "      <td>95ccf7f4-b198-4623-bcf8-45deb7f914e7</td>\n",
       "      <td>male</td>\n",
       "    </tr>\n",
       "    <tr>\n",
       "      <th>3</th>\n",
       "      <td>60e2d95a552fd6002e30b8ff</td>\n",
       "      <td>zcRQLjrvRyhg0PDjjhxlGJ1PoM7deRWnvlx08Ja1Wl4=</td>\n",
       "      <td>8460</td>\n",
       "      <td>2e2458e0-c243-44b8-aa4a-2ebc0c032214</td>\n",
       "      <td>male</td>\n",
       "    </tr>\n",
       "    <tr>\n",
       "      <th>4</th>\n",
       "      <td>60e2d95b552fd6002e30b900</td>\n",
       "      <td>4UO9IETvAMYKoPU5GhL4DRjqb5rNgF1FpAKkyXQ9v/c=</td>\n",
       "      <td>6969</td>\n",
       "      <td>77fb2572-65c2-47b9-968b-4e38778242c5</td>\n",
       "      <td>male</td>\n",
       "    </tr>\n",
       "  </tbody>\n",
       "</table>\n",
       "</div>"
      ],
      "text/plain": [
       "                        _id                                        userId  \\\n",
       "0  60e2d7ed552fd6002e30b8fc  FzlNJ/+dBGudrigpiH+9U9MlEqeHvOslfj66OxVrv4g=   \n",
       "1  60e2d811552fd6002e30b8fd  L5WMnUqwFRlZUFg48A4DRu9dYwP9srB5s2cqsA/rDZg=   \n",
       "2  60e2d958552fd6002e30b8fe  zcRQLjrvRyhg0PDjjhxlGJ1PoM7deRWnvlx08Ja1Wl4=   \n",
       "3  60e2d95a552fd6002e30b8ff  zcRQLjrvRyhg0PDjjhxlGJ1PoM7deRWnvlx08Ja1Wl4=   \n",
       "4  60e2d95b552fd6002e30b900  4UO9IETvAMYKoPU5GhL4DRjqb5rNgF1FpAKkyXQ9v/c=   \n",
       "\n",
       "   sentenceId                              fileName gender  \n",
       "0        4608  96b10244-694c-460e-bc1a-e60210c94844   male  \n",
       "1        7367  dd42d217-11b5-4107-b8c5-8c60939db63c   male  \n",
       "2        8460  95ccf7f4-b198-4623-bcf8-45deb7f914e7   male  \n",
       "3        8460  2e2458e0-c243-44b8-aa4a-2ebc0c032214   male  \n",
       "4        6969  77fb2572-65c2-47b9-968b-4e38778242c5   male  "
      ]
     },
     "execution_count": 7,
     "metadata": {},
     "output_type": "execute_result"
    }
   ],
   "source": [
    "df = pd.read_json(json_file)\n",
    "df.head()"
   ]
  },
  {
   "cell_type": "code",
   "execution_count": 8,
   "id": "d1438d19",
   "metadata": {},
   "outputs": [
    {
     "data": {
      "text/plain": [
       "['00538947-3390-4449-88ee-c3e719aa0261.wav',\n",
       " '00678de1-0f90-4cca-9361-3ccef5351104.wav',\n",
       " '0291ed0f-bfa7-4d9d-8feb-34791aab8f64.wav',\n",
       " '02d7037d-7f08-4b2e-b7f0-35ee5589b06e.wav',\n",
       " '039df766-0e79-416c-9dfd-893e113d1709.wav']"
      ]
     },
     "execution_count": 8,
     "metadata": {},
     "output_type": "execute_result"
    }
   ],
   "source": [
    "file_removing_zero = [filename for index, filename in enumerate(file_list) if file_size[index]!=0]\n",
    "file_removing_zero[:5]"
   ]
  },
  {
   "cell_type": "code",
   "execution_count": 9,
   "id": "f7c42c4e",
   "metadata": {},
   "outputs": [
    {
     "name": "stdout",
     "output_type": "stream",
     "text": [
      "Total File :- 520, Total File with zero :- 440\n"
     ]
    }
   ],
   "source": [
    "print('Total File :- {}, Total File with zero :- {}'.format(len(file_list), len(file_removing_zero)))"
   ]
  },
  {
   "cell_type": "code",
   "execution_count": 10,
   "id": "7c66121a",
   "metadata": {},
   "outputs": [
    {
     "data": {
      "text/plain": [
       "['01a78071-c22a-4303-bfc6-ff20858c7cc5.wav',\n",
       " '03de4569-7a81-48c8-beb1-a57871cfed13.wav',\n",
       " '03f84036-bc84-409d-be57-2681623e0c15.wav',\n",
       " '1a725c4a-dc57-4173-a4a4-068e189b4fe3.wav',\n",
       " '1f62b445-ea56-4efb-bbe0-0a069ae9283d.wav']"
      ]
     },
     "execution_count": 10,
     "metadata": {},
     "output_type": "execute_result"
    }
   ],
   "source": [
    "file_to_be_removed = [filename for index, filename in enumerate(file_list) if file_size[index]==0]\n",
    "file_to_be_removed[:5]"
   ]
  },
  {
   "cell_type": "code",
   "execution_count": 11,
   "id": "7969da78",
   "metadata": {},
   "outputs": [
    {
     "name": "stdout",
     "output_type": "stream",
     "text": [
      "[280, 181, 109, 110, 41, 239, 257, 3, 32, 134, 310, 362, 221, 222, 45, 187, 244, 227, 276, 279, 223, 55, 245, 256, 56, 4, 242, 218, 131, 282, 144, 342, 133, 166, 225, 281, 235, 353, 277, 340, 284, 283, 238, 145, 230, 234, 186, 253, 309, 229, 233, 232, 243, 231, 228, 341, 286, 338, 40, 220, 252, 188, 288, 275, 224, 237, 216, 236, 53, 287, 217, 308, 285, 363, 226, 364, 180, 339, 132, 311]\n"
     ]
    }
   ],
   "source": [
    "list_of_index_to_be_removed = []\n",
    "for index, filename in enumerate(file_to_be_removed):\n",
    "    file = filename.split('.')[0]\n",
    "    list_of_index_to_be_removed.append(df.index[df['fileName'] == file].tolist())\n",
    "list_of_index_to_be_removed = [x[0] for x in list_of_index_to_be_removed]\n",
    "print(list_of_index_to_be_removed)"
   ]
  },
  {
   "cell_type": "code",
   "execution_count": 12,
   "id": "0f446e23",
   "metadata": {},
   "outputs": [
    {
     "data": {
      "text/html": [
       "<div>\n",
       "<style scoped>\n",
       "    .dataframe tbody tr th:only-of-type {\n",
       "        vertical-align: middle;\n",
       "    }\n",
       "\n",
       "    .dataframe tbody tr th {\n",
       "        vertical-align: top;\n",
       "    }\n",
       "\n",
       "    .dataframe thead th {\n",
       "        text-align: right;\n",
       "    }\n",
       "</style>\n",
       "<table border=\"1\" class=\"dataframe\">\n",
       "  <thead>\n",
       "    <tr style=\"text-align: right;\">\n",
       "      <th></th>\n",
       "      <th>_id</th>\n",
       "      <th>userId</th>\n",
       "      <th>sentenceId</th>\n",
       "      <th>fileName</th>\n",
       "      <th>gender</th>\n",
       "    </tr>\n",
       "  </thead>\n",
       "  <tbody>\n",
       "    <tr>\n",
       "      <th>0</th>\n",
       "      <td>60e2d7ed552fd6002e30b8fc</td>\n",
       "      <td>FzlNJ/+dBGudrigpiH+9U9MlEqeHvOslfj66OxVrv4g=</td>\n",
       "      <td>4608</td>\n",
       "      <td>96b10244-694c-460e-bc1a-e60210c94844</td>\n",
       "      <td>male</td>\n",
       "    </tr>\n",
       "    <tr>\n",
       "      <th>1</th>\n",
       "      <td>60e2d811552fd6002e30b8fd</td>\n",
       "      <td>L5WMnUqwFRlZUFg48A4DRu9dYwP9srB5s2cqsA/rDZg=</td>\n",
       "      <td>7367</td>\n",
       "      <td>dd42d217-11b5-4107-b8c5-8c60939db63c</td>\n",
       "      <td>male</td>\n",
       "    </tr>\n",
       "    <tr>\n",
       "      <th>2</th>\n",
       "      <td>60e2d958552fd6002e30b8fe</td>\n",
       "      <td>zcRQLjrvRyhg0PDjjhxlGJ1PoM7deRWnvlx08Ja1Wl4=</td>\n",
       "      <td>8460</td>\n",
       "      <td>95ccf7f4-b198-4623-bcf8-45deb7f914e7</td>\n",
       "      <td>male</td>\n",
       "    </tr>\n",
       "    <tr>\n",
       "      <th>5</th>\n",
       "      <td>60e2d964552fd6002e30b901</td>\n",
       "      <td>4UO9IETvAMYKoPU5GhL4DRjqb5rNgF1FpAKkyXQ9v/c=</td>\n",
       "      <td>3595</td>\n",
       "      <td>744f492e-8e7f-4a1e-a13e-d65a0f0716c4</td>\n",
       "      <td>male</td>\n",
       "    </tr>\n",
       "    <tr>\n",
       "      <th>6</th>\n",
       "      <td>60e2d979552fd6002e30b902</td>\n",
       "      <td>4UO9IETvAMYKoPU5GhL4DRjqb5rNgF1FpAKkyXQ9v/c=</td>\n",
       "      <td>1056</td>\n",
       "      <td>fcba2c6c-2ef1-48c6-974f-9bb07ab03309</td>\n",
       "      <td>male</td>\n",
       "    </tr>\n",
       "  </tbody>\n",
       "</table>\n",
       "</div>"
      ],
      "text/plain": [
       "                        _id                                        userId  \\\n",
       "0  60e2d7ed552fd6002e30b8fc  FzlNJ/+dBGudrigpiH+9U9MlEqeHvOslfj66OxVrv4g=   \n",
       "1  60e2d811552fd6002e30b8fd  L5WMnUqwFRlZUFg48A4DRu9dYwP9srB5s2cqsA/rDZg=   \n",
       "2  60e2d958552fd6002e30b8fe  zcRQLjrvRyhg0PDjjhxlGJ1PoM7deRWnvlx08Ja1Wl4=   \n",
       "5  60e2d964552fd6002e30b901  4UO9IETvAMYKoPU5GhL4DRjqb5rNgF1FpAKkyXQ9v/c=   \n",
       "6  60e2d979552fd6002e30b902  4UO9IETvAMYKoPU5GhL4DRjqb5rNgF1FpAKkyXQ9v/c=   \n",
       "\n",
       "   sentenceId                              fileName gender  \n",
       "0        4608  96b10244-694c-460e-bc1a-e60210c94844   male  \n",
       "1        7367  dd42d217-11b5-4107-b8c5-8c60939db63c   male  \n",
       "2        8460  95ccf7f4-b198-4623-bcf8-45deb7f914e7   male  \n",
       "5        3595  744f492e-8e7f-4a1e-a13e-d65a0f0716c4   male  \n",
       "6        1056  fcba2c6c-2ef1-48c6-974f-9bb07ab03309   male  "
      ]
     },
     "execution_count": 12,
     "metadata": {},
     "output_type": "execute_result"
    }
   ],
   "source": [
    "df1 = df.drop(list_of_index_to_be_removed, axis = 0)\n",
    "df1.head()"
   ]
  },
  {
   "cell_type": "code",
   "execution_count": 17,
   "id": "5373f381",
   "metadata": {},
   "outputs": [
    {
     "name": "stdout",
     "output_type": "stream",
     "text": [
      "80 is the number of zero byte files.\n"
     ]
    }
   ],
   "source": [
    "print('{} is the number of zero byte files.'.format(df.shape[0]-df1.shape[0]))"
   ]
  },
  {
   "cell_type": "markdown",
   "id": "10fb7f2a",
   "metadata": {},
   "source": [
    "The labels of files with zero bytes has been removed."
   ]
  },
  {
   "cell_type": "code",
   "execution_count": 18,
   "id": "5c839c4b",
   "metadata": {},
   "outputs": [],
   "source": [
    "# Exporting the file\n",
    "df1.to_csv('./labels/filtered.csv', index=False)"
   ]
  }
 ],
 "metadata": {
  "interpreter": {
   "hash": "365a6f48d5b3d0e0eea84e3d03889f98664b6bd401c9deb3c1f8b38399868f29"
  },
  "kernelspec": {
   "display_name": "Python 3",
   "language": "python",
   "name": "python3"
  },
  "language_info": {
   "codemirror_mode": {
    "name": "ipython",
    "version": 3
   },
   "file_extension": ".py",
   "mimetype": "text/x-python",
   "name": "python",
   "nbconvert_exporter": "python",
   "pygments_lexer": "ipython3",
   "version": "3.9.6"
  }
 },
 "nbformat": 4,
 "nbformat_minor": 5
}
