{
 "cells": [
  {
   "cell_type": "markdown",
   "id": "906794b4",
   "metadata": {},
   "source": [
    "## Initial Problems Within the labels\n",
    "The files that we have taken has atleast 80 different files with zero file size which cannot be processes and as for the labels, those zero file's labels should be removed and in that label sentenceId is given which would need an actual sentence to proceed furthur with the processing. Hence, The following function named `remove_zero_size_file()` is created which does all of the above tasks and returns the required label and saves it as an csv file for future use."
   ]
  },
  {
   "cell_type": "code",
   "execution_count": 1,
   "id": "1da3d6b4",
   "metadata": {},
   "outputs": [],
   "source": [
    "# Required modules\n",
    "import pandas as pd\n",
    "import os"
   ]
  },
  {
   "cell_type": "code",
   "execution_count": 2,
   "id": "f27044f8",
   "metadata": {},
   "outputs": [],
   "source": [
    "def remove_zero_size_file(showProcess=False):\n",
    "    '''\n",
    "        Removes Zero Size file from the label data and merges with the given sentence\n",
    "        \n",
    "        showProcess:\n",
    "            prints the process if yes. Default false.\n",
    "            \n",
    "    '''\n",
    "    path = os.path.abspath(os.getcwd())\n",
    "    if showProcess:\n",
    "        print(\"Current File Path is:- {}\".format(path))\n",
    "    file_path = os.path.join(path, 'audioFiles')\n",
    "    if showProcess:\n",
    "        print(\"Path of the audioFiles is found!\")\n",
    "    file_list = [x for x in os.listdir(file_path) if x.split('.')[-1]=='wav']\n",
    "    if showProcess:\n",
    "        print(\"The list of the audio files found!\")\n",
    "    # Getting file size\n",
    "    file_size = [os.stat(os.path.join(file_path, x)).st_size for x in file_list]\n",
    "    if showProcess:\n",
    "        print(\"The list of the audio file size found!\")\n",
    "        print(\"Note:- Each index in file size represents same index in audio files list.\")\n",
    "    # getting label json_file\n",
    "    json_file = os.path.join(path, 'labels/data.json')\n",
    "    sentence_file = os.path.join(path, 'labels/sentenceLabels.json')\n",
    "    if showProcess:\n",
    "        print(\"Path of data.json:- {}\".format(json_file))\n",
    "        print(\"Path of data.json:- {}\".format(sentence_file))\n",
    "    # Reading dataFrame as json\n",
    "    df1 = pd.read_json(json_file)\n",
    "    df2 = pd.read_json(sentence_file)\n",
    "    if showProcess:\n",
    "        print(\"Json file loaded!\")\n",
    "    # File without zero size files\n",
    "    file_removing_zero = [filename for index, filename in enumerate(file_list) if file_size[index]!=0]\n",
    "    if showProcess:\n",
    "        print(\"List of file with no zero bytes files found!\")\n",
    "    # File of zero size files\n",
    "    file_to_be_removed = [filename for index, filename in enumerate(file_list) if file_size[index]==0]\n",
    "    if showProcess:\n",
    "        print(\"List of file with only zero byte files found!\")\n",
    "    # list of indexs to be removed\n",
    "    list_of_index_to_be_removed = []\n",
    "    for index, filename in enumerate(file_to_be_removed):\n",
    "        file = filename.split('.')[0]\n",
    "        list_of_index_to_be_removed.append(df1.index[df1['fileName'] == file].tolist())\n",
    "    list_of_index_to_be_removed = [x[0] for x in list_of_index_to_be_removed]\n",
    "    if showProcess:\n",
    "        print(\"The list of indexs in the files list to be removed found!\")\n",
    "    # Removing zero bytes files from the index\n",
    "    df1.drop(list_of_index_to_be_removed, axis = 0, inplace=True)\n",
    "    if showProcess:\n",
    "        print(\"The zero bytes files are now removed from the dataframe.\")\n",
    "    # Combinding two dataframes\n",
    "    df2.rename(columns={\"_id\": \"sentenceId\"}, inplace=True)\n",
    "    df = pd.merge(df1, df2, on='sentenceId')\n",
    "    df.drop('sentenceId', axis=1, inplace=True)\n",
    "    if showProcess:\n",
    "        print(\"New Dataframe creation completed!\")\n",
    "    # Exporting the file\n",
    "    df.to_csv(os.path.join(path,'labels/filtered.csv'), index=False)\n",
    "    if showProcess:\n",
    "        print(\"File is now exported to a csv file.\")\n",
    "    return df"
   ]
  },
  {
   "cell_type": "code",
   "execution_count": 3,
   "id": "10936129",
   "metadata": {},
   "outputs": [
    {
     "name": "stdout",
     "output_type": "stream",
     "text": [
      "Current File Path is:- /run/media/rajm/programs/Projects/major-project-processing/pythonFiles\n",
      "Path of the audioFiles is found!\n",
      "The list of the audio files found!\n",
      "The list of the audio file size found!\n",
      "Note:- Each index in file size represents same index in audio files list.\n",
      "Path of data.json:- /run/media/rajm/programs/Projects/major-project-processing/pythonFiles/labels/data.json\n",
      "Json file loaded!\n",
      "List of file with no zero bytes files found!\n",
      "List of file with only zero byte files found!\n",
      "The list of indexs in the files list to be removed found!\n",
      "The zero bytes files are now removed from the dataframe.\n",
      "Files are now exported to a csv file.\n"
     ]
    }
   ],
   "source": [
    "df = remove_zero_size_file()"
   ]
  },
  {
   "cell_type": "code",
   "execution_count": null,
   "id": "b846e2bd",
   "metadata": {},
   "outputs": [],
   "source": []
  }
 ],
 "metadata": {
  "kernelspec": {
   "display_name": "Python 3",
   "language": "python",
   "name": "python3"
  },
  "language_info": {
   "codemirror_mode": {
    "name": "ipython",
    "version": 3
   },
   "file_extension": ".py",
   "mimetype": "text/x-python",
   "name": "python",
   "nbconvert_exporter": "python",
   "pygments_lexer": "ipython3",
   "version": "3.9.6"
  }
 },
 "nbformat": 4,
 "nbformat_minor": 5
}
