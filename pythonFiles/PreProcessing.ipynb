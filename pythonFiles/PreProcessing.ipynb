{
 "cells": [
  {
   "cell_type": "markdown",
   "id": "7343ca98",
   "metadata": {},
   "source": [
    "# Preprocessing of audio files\n",
    "This notebook contains preprocessing steps for audio processing."
   ]
  },
  {
   "cell_type": "markdown",
   "id": "69090142",
   "metadata": {},
   "source": [
    "## Importing required libraries"
   ]
  },
  {
   "cell_type": "code",
   "execution_count": 1,
   "id": "bdc04221",
   "metadata": {},
   "outputs": [],
   "source": [
    "import os\n",
    "import numpy as np\n",
    "import pandas as pd\n",
    "import matplotlib.pyplot as plt\n",
    "\n",
    "# For audio processing\n",
    "import librosa\n",
    "import librosa.display\n",
    "import IPython.display as ipd\n",
    "\n",
    "# import custom functions\n",
    "from modules.remove_zero_size_files import remove_zero_size_file\n",
    "from modules.number_to_string import nepali_number_to_devnagari"
   ]
  },
  {
   "cell_type": "markdown",
   "id": "3709eff7",
   "metadata": {},
   "source": [
    "## Removing zero size files from labels\n",
    "Initially removing unrequired zero size files from labels and adding sentence using sentenceId. Here, pre-created function `remove_zero_size_file()` can be used."
   ]
  },
  {
   "cell_type": "code",
   "execution_count": 3,
   "id": "46642853",
   "metadata": {},
   "outputs": [
    {
     "name": "stdout",
     "output_type": "stream",
     "text": [
      "Current File Path is:- G:\\Projects\\major-project-processing\\pythonFiles\n",
      "Path of the audioFiles is found!\n",
      "The list of the audio files found!\n",
      "The list of the audio file size found!\n",
      "Note:- Each index in file size represents same index in audio files list.\n",
      "Path of data.json:- G:\\Projects\\major-project-processing\\pythonFiles\\labels/data.json\n",
      "Path of data.json:- G:\\Projects\\major-project-processing\\pythonFiles\\labels/sentenceLabels.json\n",
      "Json file loaded!\n",
      "List of file with no zero bytes files found!\n",
      "List of file with only zero byte files found!\n",
      "The list of indexs in the files list to be removed found!\n",
      "The zero bytes files are now removed from the dataframe.\n",
      "New Dataframe creation completed!\n",
      "File is now exported to a csv file.\n"
     ]
    }
   ],
   "source": [
    "df = remove_zero_size_file(show_process=True, save_to_csv=True)"
   ]
  },
  {
   "cell_type": "code",
   "execution_count": 4,
   "id": "b2396569",
   "metadata": {},
   "outputs": [
    {
     "data": {
      "text/html": [
       "<div>\n",
       "<style scoped>\n",
       "    .dataframe tbody tr th:only-of-type {\n",
       "        vertical-align: middle;\n",
       "    }\n",
       "\n",
       "    .dataframe tbody tr th {\n",
       "        vertical-align: top;\n",
       "    }\n",
       "\n",
       "    .dataframe thead th {\n",
       "        text-align: right;\n",
       "    }\n",
       "</style>\n",
       "<table border=\"1\" class=\"dataframe\">\n",
       "  <thead>\n",
       "    <tr style=\"text-align: right;\">\n",
       "      <th></th>\n",
       "      <th>_id</th>\n",
       "      <th>userId</th>\n",
       "      <th>fileName</th>\n",
       "      <th>gender</th>\n",
       "      <th>sentences</th>\n",
       "    </tr>\n",
       "  </thead>\n",
       "  <tbody>\n",
       "    <tr>\n",
       "      <th>0</th>\n",
       "      <td>60e2d811552fd6002e30b8fd</td>\n",
       "      <td>L5WMnUqwFRlZUFg48A4DRu9dYwP9srB5s2cqsA/rDZg=</td>\n",
       "      <td>dd42d217-11b5-4107-b8c5-8c60939db63c</td>\n",
       "      <td>male</td>\n",
       "      <td>रोमान्चक बनेको खेलमा बुलबुलेले आर्मीलाई २०-२५,...</td>\n",
       "    </tr>\n",
       "    <tr>\n",
       "      <th>1</th>\n",
       "      <td>60e2d964552fd6002e30b901</td>\n",
       "      <td>4UO9IETvAMYKoPU5GhL4DRjqb5rNgF1FpAKkyXQ9v/c=</td>\n",
       "      <td>744f492e-8e7f-4a1e-a13e-d65a0f0716c4</td>\n",
       "      <td>male</td>\n",
       "      <td>आईसीसी महिला टी-२० विश्वकपको एसिया छनोट एक महि...</td>\n",
       "    </tr>\n",
       "    <tr>\n",
       "      <th>2</th>\n",
       "      <td>61ab150e7526df002f75e921</td>\n",
       "      <td>3upRZGf2oFJMajP1LMVx5vNAMKY+PdM+rIdTvmQHUus=</td>\n",
       "      <td>cfea7257-9d98-481b-a4b2-aa8da3132cca</td>\n",
       "      <td>female</td>\n",
       "      <td>आईसीसी महिला टी-२० विश्वकपको एसिया छनोट एक महि...</td>\n",
       "    </tr>\n",
       "    <tr>\n",
       "      <th>3</th>\n",
       "      <td>60e2d958552fd6002e30b8fe</td>\n",
       "      <td>zcRQLjrvRyhg0PDjjhxlGJ1PoM7deRWnvlx08Ja1Wl4=</td>\n",
       "      <td>95ccf7f4-b198-4623-bcf8-45deb7f914e7</td>\n",
       "      <td>male</td>\n",
       "      <td>कार्यक्रममा राष्ट्रिय क्रिकेट टोलीका सदस्यहरुम...</td>\n",
       "    </tr>\n",
       "    <tr>\n",
       "      <th>4</th>\n",
       "      <td>60e2d98b552fd6002e30b903</td>\n",
       "      <td>4UO9IETvAMYKoPU5GhL4DRjqb5rNgF1FpAKkyXQ9v/c=</td>\n",
       "      <td>1ad1149b-be62-4099-8356-0e7c5f892374</td>\n",
       "      <td>male</td>\n",
       "      <td>तर त्यसपछि म रियल मड्रिडका लागि धेरै राम्रो गर...</td>\n",
       "    </tr>\n",
       "  </tbody>\n",
       "</table>\n",
       "</div>"
      ],
      "text/plain": [
       "                        _id                                        userId  \\\n",
       "0  60e2d811552fd6002e30b8fd  L5WMnUqwFRlZUFg48A4DRu9dYwP9srB5s2cqsA/rDZg=   \n",
       "1  60e2d964552fd6002e30b901  4UO9IETvAMYKoPU5GhL4DRjqb5rNgF1FpAKkyXQ9v/c=   \n",
       "2  61ab150e7526df002f75e921  3upRZGf2oFJMajP1LMVx5vNAMKY+PdM+rIdTvmQHUus=   \n",
       "3  60e2d958552fd6002e30b8fe  zcRQLjrvRyhg0PDjjhxlGJ1PoM7deRWnvlx08Ja1Wl4=   \n",
       "4  60e2d98b552fd6002e30b903  4UO9IETvAMYKoPU5GhL4DRjqb5rNgF1FpAKkyXQ9v/c=   \n",
       "\n",
       "                               fileName  gender  \\\n",
       "0  dd42d217-11b5-4107-b8c5-8c60939db63c    male   \n",
       "1  744f492e-8e7f-4a1e-a13e-d65a0f0716c4    male   \n",
       "2  cfea7257-9d98-481b-a4b2-aa8da3132cca  female   \n",
       "3  95ccf7f4-b198-4623-bcf8-45deb7f914e7    male   \n",
       "4  1ad1149b-be62-4099-8356-0e7c5f892374    male   \n",
       "\n",
       "                                           sentences  \n",
       "0  रोमान्चक बनेको खेलमा बुलबुलेले आर्मीलाई २०-२५,...  \n",
       "1  आईसीसी महिला टी-२० विश्वकपको एसिया छनोट एक महि...  \n",
       "2  आईसीसी महिला टी-२० विश्वकपको एसिया छनोट एक महि...  \n",
       "3  कार्यक्रममा राष्ट्रिय क्रिकेट टोलीका सदस्यहरुम...  \n",
       "4  तर त्यसपछि म रियल मड्रिडका लागि धेरै राम्रो गर...  "
      ]
     },
     "execution_count": 4,
     "metadata": {},
     "output_type": "execute_result"
    }
   ],
   "source": [
    "df.head()"
   ]
  },
  {
   "cell_type": "code",
   "execution_count": 5,
   "id": "af7e421b",
   "metadata": {},
   "outputs": [
    {
     "name": "stdout",
     "output_type": "stream",
     "text": [
      "129\n"
     ]
    }
   ],
   "source": [
    "# Total number of user that have participated in data collection\n",
    "a = []\n",
    "for i in df['userId']:\n",
    "    if i not in a:\n",
    "        a.append(i)\n",
    "print(len(a))"
   ]
  },
  {
   "cell_type": "markdown",
   "id": "437d760e",
   "metadata": {},
   "source": [
    "## Converting Nepali Numbers into Devnagari number form\n",
    "For processing having sentences in numeric form makes it difficult for processing hence, numbes needs to be turned to devnagari(word format). Here, pre-created `nepali_number_to_devnagari()` function can be used."
   ]
  },
  {
   "cell_type": "code",
   "execution_count": 6,
   "id": "85dd6d4f",
   "metadata": {},
   "outputs": [],
   "source": [
    "numberList = nepali_number_to_devnagari(returnNumberList=True, returnValue=False)"
   ]
  },
  {
   "cell_type": "code",
   "execution_count": 7,
   "id": "3bf45817",
   "metadata": {},
   "outputs": [],
   "source": [
    "number = ''\n",
    "devnagariSentence = []\n",
    "for i in df['sentences']:\n",
    "    currentSentence = ''\n",
    "    for j in i:\n",
    "        if j in numberList:\n",
    "            number += j\n",
    "            continue\n",
    "        if len(number)>0:\n",
    "            currentSentence += nepali_number_to_devnagari(number, returnNumberList=False, returnValue=True)\n",
    "            number = ''\n",
    "        currentSentence += j\n",
    "    devnagariSentence.append(currentSentence)\n",
    "df['devnagariSentence'] = devnagariSentence\n",
    "df.drop('sentences', axis=1, inplace=True)\n",
    "# df.to_csv('./labels/final.csv')"
   ]
  },
  {
   "cell_type": "code",
   "execution_count": 8,
   "id": "dae58f4a",
   "metadata": {},
   "outputs": [
    {
     "data": {
      "text/html": [
       "<div>\n",
       "<style scoped>\n",
       "    .dataframe tbody tr th:only-of-type {\n",
       "        vertical-align: middle;\n",
       "    }\n",
       "\n",
       "    .dataframe tbody tr th {\n",
       "        vertical-align: top;\n",
       "    }\n",
       "\n",
       "    .dataframe thead th {\n",
       "        text-align: right;\n",
       "    }\n",
       "</style>\n",
       "<table border=\"1\" class=\"dataframe\">\n",
       "  <thead>\n",
       "    <tr style=\"text-align: right;\">\n",
       "      <th></th>\n",
       "      <th>_id</th>\n",
       "      <th>userId</th>\n",
       "      <th>fileName</th>\n",
       "      <th>gender</th>\n",
       "      <th>devnagariSentence</th>\n",
       "    </tr>\n",
       "  </thead>\n",
       "  <tbody>\n",
       "    <tr>\n",
       "      <th>0</th>\n",
       "      <td>60e2d811552fd6002e30b8fd</td>\n",
       "      <td>L5WMnUqwFRlZUFg48A4DRu9dYwP9srB5s2cqsA/rDZg=</td>\n",
       "      <td>dd42d217-11b5-4107-b8c5-8c60939db63c</td>\n",
       "      <td>male</td>\n",
       "      <td>रोमान्चक बनेको खेलमा बुलबुलेले आर्मीलाई विस-पच...</td>\n",
       "    </tr>\n",
       "    <tr>\n",
       "      <th>1</th>\n",
       "      <td>60e2d964552fd6002e30b901</td>\n",
       "      <td>4UO9IETvAMYKoPU5GhL4DRjqb5rNgF1FpAKkyXQ9v/c=</td>\n",
       "      <td>744f492e-8e7f-4a1e-a13e-d65a0f0716c4</td>\n",
       "      <td>male</td>\n",
       "      <td>आईसीसी महिला टी-विस विश्वकपको एसिया छनोट एक मह...</td>\n",
       "    </tr>\n",
       "    <tr>\n",
       "      <th>2</th>\n",
       "      <td>61ab150e7526df002f75e921</td>\n",
       "      <td>3upRZGf2oFJMajP1LMVx5vNAMKY+PdM+rIdTvmQHUus=</td>\n",
       "      <td>cfea7257-9d98-481b-a4b2-aa8da3132cca</td>\n",
       "      <td>female</td>\n",
       "      <td>आईसीसी महिला टी-विस विश्वकपको एसिया छनोट एक मह...</td>\n",
       "    </tr>\n",
       "    <tr>\n",
       "      <th>3</th>\n",
       "      <td>60e2d958552fd6002e30b8fe</td>\n",
       "      <td>zcRQLjrvRyhg0PDjjhxlGJ1PoM7deRWnvlx08Ja1Wl4=</td>\n",
       "      <td>95ccf7f4-b198-4623-bcf8-45deb7f914e7</td>\n",
       "      <td>male</td>\n",
       "      <td>कार्यक्रममा राष्ट्रिय क्रिकेट टोलीका सदस्यहरुम...</td>\n",
       "    </tr>\n",
       "    <tr>\n",
       "      <th>4</th>\n",
       "      <td>60e2d98b552fd6002e30b903</td>\n",
       "      <td>4UO9IETvAMYKoPU5GhL4DRjqb5rNgF1FpAKkyXQ9v/c=</td>\n",
       "      <td>1ad1149b-be62-4099-8356-0e7c5f892374</td>\n",
       "      <td>male</td>\n",
       "      <td>तर त्यसपछि म रियल मड्रिडका लागि धेरै राम्रो गर...</td>\n",
       "    </tr>\n",
       "  </tbody>\n",
       "</table>\n",
       "</div>"
      ],
      "text/plain": [
       "                        _id                                        userId  \\\n",
       "0  60e2d811552fd6002e30b8fd  L5WMnUqwFRlZUFg48A4DRu9dYwP9srB5s2cqsA/rDZg=   \n",
       "1  60e2d964552fd6002e30b901  4UO9IETvAMYKoPU5GhL4DRjqb5rNgF1FpAKkyXQ9v/c=   \n",
       "2  61ab150e7526df002f75e921  3upRZGf2oFJMajP1LMVx5vNAMKY+PdM+rIdTvmQHUus=   \n",
       "3  60e2d958552fd6002e30b8fe  zcRQLjrvRyhg0PDjjhxlGJ1PoM7deRWnvlx08Ja1Wl4=   \n",
       "4  60e2d98b552fd6002e30b903  4UO9IETvAMYKoPU5GhL4DRjqb5rNgF1FpAKkyXQ9v/c=   \n",
       "\n",
       "                               fileName  gender  \\\n",
       "0  dd42d217-11b5-4107-b8c5-8c60939db63c    male   \n",
       "1  744f492e-8e7f-4a1e-a13e-d65a0f0716c4    male   \n",
       "2  cfea7257-9d98-481b-a4b2-aa8da3132cca  female   \n",
       "3  95ccf7f4-b198-4623-bcf8-45deb7f914e7    male   \n",
       "4  1ad1149b-be62-4099-8356-0e7c5f892374    male   \n",
       "\n",
       "                                   devnagariSentence  \n",
       "0  रोमान्चक बनेको खेलमा बुलबुलेले आर्मीलाई विस-पच...  \n",
       "1  आईसीसी महिला टी-विस विश्वकपको एसिया छनोट एक मह...  \n",
       "2  आईसीसी महिला टी-विस विश्वकपको एसिया छनोट एक मह...  \n",
       "3  कार्यक्रममा राष्ट्रिय क्रिकेट टोलीका सदस्यहरुम...  \n",
       "4  तर त्यसपछि म रियल मड्रिडका लागि धेरै राम्रो गर...  "
      ]
     },
     "execution_count": 8,
     "metadata": {},
     "output_type": "execute_result"
    }
   ],
   "source": [
    "df.head()"
   ]
  },
  {
   "cell_type": "markdown",
   "id": "62a70264",
   "metadata": {},
   "source": [
    "## Checking audio files\n",
    "Checking audio files for it's speech and it's accuracy with the labels"
   ]
  },
  {
   "cell_type": "code",
   "execution_count": 2,
   "id": "74697d5b",
   "metadata": {},
   "outputs": [],
   "source": [
    "df = pd.read_csv('./labels/final_after_check.csv')"
   ]
  },
  {
   "cell_type": "code",
   "execution_count": 3,
   "id": "f3501946",
   "metadata": {},
   "outputs": [
    {
     "data": {
      "text/plain": [
       "(564, 7)"
      ]
     },
     "execution_count": 3,
     "metadata": {},
     "output_type": "execute_result"
    }
   ],
   "source": [
    "df.shape"
   ]
  },
  {
   "cell_type": "code",
   "execution_count": 4,
   "id": "6e3d2c3d",
   "metadata": {},
   "outputs": [
    {
     "name": "stdout",
     "output_type": "stream",
     "text": [
      "female\n",
      "c6ea16d5-eb1c-47ba-9401-019c1f35a5ee.wav\n",
      "एनएसएसलाई अखिल नेपाल फुटबल संघ एन्फाले प्राविधिक सहयोग गर्नेछ\n"
     ]
    },
    {
     "ename": "NameError",
     "evalue": "name 'ipd' is not defined",
     "output_type": "error",
     "traceback": [
      "\u001b[0;31m---------------------------------------------------------------------------\u001b[0m",
      "\u001b[0;31mNameError\u001b[0m                                 Traceback (most recent call last)",
      "\u001b[0;32m/tmp/ipykernel_42049/1879486792.py\u001b[0m in \u001b[0;36m<module>\u001b[0;34m\u001b[0m\n\u001b[1;32m      5\u001b[0m \u001b[0mprint\u001b[0m\u001b[0;34m(\u001b[0m\u001b[0mrow\u001b[0m\u001b[0;34m[\u001b[0m\u001b[0;34m\"fileName\"\u001b[0m\u001b[0;34m]\u001b[0m \u001b[0;34m+\u001b[0m \u001b[0;34m\".wav\"\u001b[0m\u001b[0;34m)\u001b[0m\u001b[0;34m\u001b[0m\u001b[0;34m\u001b[0m\u001b[0m\n\u001b[1;32m      6\u001b[0m \u001b[0mprint\u001b[0m\u001b[0;34m(\u001b[0m\u001b[0mrow\u001b[0m\u001b[0;34m[\u001b[0m\u001b[0;34m\"devnagariSentence\"\u001b[0m\u001b[0;34m]\u001b[0m\u001b[0;34m)\u001b[0m\u001b[0;34m\u001b[0m\u001b[0;34m\u001b[0m\u001b[0m\n\u001b[0;32m----> 7\u001b[0;31m \u001b[0mipd\u001b[0m\u001b[0;34m.\u001b[0m\u001b[0mAudio\u001b[0m\u001b[0;34m(\u001b[0m\u001b[0mfilename\u001b[0m\u001b[0;34m,\u001b[0m \u001b[0mautoplay\u001b[0m\u001b[0;34m=\u001b[0m\u001b[0;32mTrue\u001b[0m\u001b[0;34m)\u001b[0m\u001b[0;34m\u001b[0m\u001b[0;34m\u001b[0m\u001b[0m\n\u001b[0m",
      "\u001b[0;31mNameError\u001b[0m: name 'ipd' is not defined"
     ]
    }
   ],
   "source": [
    "number = 91\n",
    "row = df.iloc[number]\n",
    "filename = os.path.join(\"audioFiles\", row[\"fileName\"] + \".wav\")\n",
    "print(row[\"gender\"])\n",
    "print(row[\"fileName\"] + \".wav\")\n",
    "print(row[\"devnagariSentence\"])\n",
    "ipd.Audio(filename, autoplay=True)"
   ]
  },
  {
   "cell_type": "code",
   "execution_count": 85,
   "id": "6624b517",
   "metadata": {},
   "outputs": [],
   "source": [
    "# df.drop(index=number, axis=0, inplace=True)"
   ]
  },
  {
   "cell_type": "code",
   "execution_count": 69,
   "id": "81c0fb01",
   "metadata": {},
   "outputs": [],
   "source": [
    "df.to_csv('./labels/final_after_check.csv')"
   ]
  },
  {
   "cell_type": "markdown",
   "id": "d7bd41ca",
   "metadata": {},
   "source": [
    "Removing the files that are not spoken correctly."
   ]
  },
  {
   "cell_type": "code",
   "execution_count": 11,
   "id": "f0c3a724",
   "metadata": {
    "scrolled": true
   },
   "outputs": [
    {
     "name": "stdout",
     "output_type": "stream",
     "text": [
      "Wall time: 7min 56s\n"
     ]
    }
   ],
   "source": [
    "%%time\n",
    "total_time = 0\n",
    "count = 0\n",
    "for i in df[\"fileName\"]:\n",
    "    filename = os.path.join(\"audioFiles\", i +\".wav\")\n",
    "    audio, _ = librosa.load(os.path.join(\"audioFiles\", i+\".wav\"))\n",
    "    total_time = total_time + librosa.get_duration(audio)\n",
    "    count = count+1"
   ]
  },
  {
   "cell_type": "code",
   "execution_count": 12,
   "id": "9b57ec8c",
   "metadata": {},
   "outputs": [
    {
     "name": "stdout",
     "output_type": "stream",
     "text": [
      "1.2920378054925663 Hrs\n"
     ]
    }
   ],
   "source": [
    "time = (total_time / 60) / 60\n",
    "print(\"{} Hrs\".format(time))"
   ]
  },
  {
   "cell_type": "code",
   "execution_count": 13,
   "id": "5e794c1c",
   "metadata": {},
   "outputs": [
    {
     "name": "stdout",
     "output_type": "stream",
     "text": [
      "a\n"
     ]
    }
   ],
   "source": [
    "a = input()"
   ]
  },
  {
   "cell_type": "code",
   "execution_count": null,
   "id": "b4ea4cdd",
   "metadata": {},
   "outputs": [],
   "source": []
  }
 ],
 "metadata": {
  "interpreter": {
   "hash": "365a6f48d5b3d0e0eea84e3d03889f98664b6bd401c9deb3c1f8b38399868f29"
  },
  "kernelspec": {
   "display_name": "Python 3 (ipykernel)",
   "language": "python",
   "name": "python3"
  },
  "language_info": {
   "codemirror_mode": {
    "name": "ipython",
    "version": 3
   },
   "file_extension": ".py",
   "mimetype": "text/x-python",
   "name": "python",
   "nbconvert_exporter": "python",
   "pygments_lexer": "ipython3",
   "version": "3.9.7"
  }
 },
 "nbformat": 4,
 "nbformat_minor": 5
}
