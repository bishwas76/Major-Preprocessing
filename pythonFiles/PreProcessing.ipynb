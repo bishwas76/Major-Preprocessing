{
 "cells": [
  {
   "cell_type": "markdown",
   "id": "7343ca98",
   "metadata": {},
   "source": [
    "# Preprocessing of audio files\n",
    "This notebook contains preprocessing steps for audio processing."
   ]
  },
  {
   "cell_type": "markdown",
   "id": "69090142",
   "metadata": {},
   "source": [
    "## Importing required libraries"
   ]
  },
  {
   "cell_type": "code",
   "execution_count": 1,
   "id": "bdc04221",
   "metadata": {},
   "outputs": [],
   "source": [
    "import os\n",
    "import numpy as np\n",
    "import pandas as pd\n",
    "import matplotlib.pyplot as plt\n",
    "\n",
    "# For audio processing\n",
    "import librosa\n",
    "import librosa.display\n",
    "import IPython.display as ipd\n",
    "\n",
    "# import custom functions\n",
    "from modules.remove_zero_size_files import remove_zero_size_file\n",
    "from modules.number_to_string import nepali_number_to_devnagari"
   ]
  },
  {
   "cell_type": "code",
   "execution_count": 2,
   "id": "986cb36e-0fa3-4801-951a-b74f7c9cbf0c",
   "metadata": {},
   "outputs": [],
   "source": [
    "import warnings\n",
    "warnings.filterwarnings('ignore')"
   ]
  },
  {
   "cell_type": "markdown",
   "id": "3709eff7",
   "metadata": {},
   "source": [
    "## Removing zero size files from labels\n",
    "Initially removing unrequired zero size files from labels and adding sentence using sentenceId. Here, pre-created function `remove_zero_size_file()` can be used."
   ]
  },
  {
   "cell_type": "code",
   "execution_count": 2,
   "id": "46642853",
   "metadata": {},
   "outputs": [
    {
     "name": "stdout",
     "output_type": "stream",
     "text": [
      "Current File Path is:- /home/rajmhrj/Documents/Major-Preprocessing/pythonFiles\n",
      "Path of the audioFiles is found!\n",
      "The list of the audio files found!\n",
      "The list of the audio file size found!\n",
      "Note:- Each index in file size represents same index in audio files list.\n",
      "Path of data.json:- /home/rajmhrj/Documents/Major-Preprocessing/pythonFiles/labels/data.json\n",
      "Path of data.json:- /home/rajmhrj/Documents/Major-Preprocessing/pythonFiles/labels/sentenceLabels.json\n",
      "Json file loaded!\n",
      "List of file with no zero bytes files found!\n",
      "List of file with only zero byte files found!\n",
      "The list of indexs in the files list to be removed found!\n",
      "The zero bytes files are now removed from the dataframe.\n",
      "New Dataframe creation completed!\n",
      "File is now exported to a csv file.\n"
     ]
    }
   ],
   "source": [
    "df = remove_zero_size_file(show_process=True, save_to_csv=True)"
   ]
  },
  {
   "cell_type": "code",
   "execution_count": 3,
   "id": "b2396569",
   "metadata": {},
   "outputs": [
    {
     "data": {
      "text/html": [
       "<div>\n",
       "<style scoped>\n",
       "    .dataframe tbody tr th:only-of-type {\n",
       "        vertical-align: middle;\n",
       "    }\n",
       "\n",
       "    .dataframe tbody tr th {\n",
       "        vertical-align: top;\n",
       "    }\n",
       "\n",
       "    .dataframe thead th {\n",
       "        text-align: right;\n",
       "    }\n",
       "</style>\n",
       "<table border=\"1\" class=\"dataframe\">\n",
       "  <thead>\n",
       "    <tr style=\"text-align: right;\">\n",
       "      <th></th>\n",
       "      <th>_id</th>\n",
       "      <th>userId</th>\n",
       "      <th>fileName</th>\n",
       "      <th>gender</th>\n",
       "      <th>sentences</th>\n",
       "    </tr>\n",
       "  </thead>\n",
       "  <tbody>\n",
       "    <tr>\n",
       "      <th>0</th>\n",
       "      <td>60e2d811552fd6002e30b8fd</td>\n",
       "      <td>L5WMnUqwFRlZUFg48A4DRu9dYwP9srB5s2cqsA/rDZg=</td>\n",
       "      <td>dd42d217-11b5-4107-b8c5-8c60939db63c</td>\n",
       "      <td>male</td>\n",
       "      <td>रोमान्चक बनेको खेलमा बुलबुलेले आर्मीलाई २०-२५,...</td>\n",
       "    </tr>\n",
       "    <tr>\n",
       "      <th>1</th>\n",
       "      <td>60e2d964552fd6002e30b901</td>\n",
       "      <td>4UO9IETvAMYKoPU5GhL4DRjqb5rNgF1FpAKkyXQ9v/c=</td>\n",
       "      <td>744f492e-8e7f-4a1e-a13e-d65a0f0716c4</td>\n",
       "      <td>male</td>\n",
       "      <td>आईसीसी महिला टी-२० विश्वकपको एसिया छनोट एक महि...</td>\n",
       "    </tr>\n",
       "    <tr>\n",
       "      <th>2</th>\n",
       "      <td>61ab150e7526df002f75e921</td>\n",
       "      <td>3upRZGf2oFJMajP1LMVx5vNAMKY+PdM+rIdTvmQHUus=</td>\n",
       "      <td>cfea7257-9d98-481b-a4b2-aa8da3132cca</td>\n",
       "      <td>female</td>\n",
       "      <td>आईसीसी महिला टी-२० विश्वकपको एसिया छनोट एक महि...</td>\n",
       "    </tr>\n",
       "    <tr>\n",
       "      <th>3</th>\n",
       "      <td>60e2d958552fd6002e30b8fe</td>\n",
       "      <td>zcRQLjrvRyhg0PDjjhxlGJ1PoM7deRWnvlx08Ja1Wl4=</td>\n",
       "      <td>95ccf7f4-b198-4623-bcf8-45deb7f914e7</td>\n",
       "      <td>male</td>\n",
       "      <td>मैदानको वरिपरी ट्र्याक निर्माणको लागि ५ नम्बर ...</td>\n",
       "    </tr>\n",
       "    <tr>\n",
       "      <th>4</th>\n",
       "      <td>60e2d98b552fd6002e30b903</td>\n",
       "      <td>4UO9IETvAMYKoPU5GhL4DRjqb5rNgF1FpAKkyXQ9v/c=</td>\n",
       "      <td>1ad1149b-be62-4099-8356-0e7c5f892374</td>\n",
       "      <td>male</td>\n",
       "      <td>तर त्यसपछि म रियल मड्रिडका लागि धेरै राम्रो गर...</td>\n",
       "    </tr>\n",
       "  </tbody>\n",
       "</table>\n",
       "</div>"
      ],
      "text/plain": [
       "                        _id                                        userId  \\\n",
       "0  60e2d811552fd6002e30b8fd  L5WMnUqwFRlZUFg48A4DRu9dYwP9srB5s2cqsA/rDZg=   \n",
       "1  60e2d964552fd6002e30b901  4UO9IETvAMYKoPU5GhL4DRjqb5rNgF1FpAKkyXQ9v/c=   \n",
       "2  61ab150e7526df002f75e921  3upRZGf2oFJMajP1LMVx5vNAMKY+PdM+rIdTvmQHUus=   \n",
       "3  60e2d958552fd6002e30b8fe  zcRQLjrvRyhg0PDjjhxlGJ1PoM7deRWnvlx08Ja1Wl4=   \n",
       "4  60e2d98b552fd6002e30b903  4UO9IETvAMYKoPU5GhL4DRjqb5rNgF1FpAKkyXQ9v/c=   \n",
       "\n",
       "                               fileName  gender  \\\n",
       "0  dd42d217-11b5-4107-b8c5-8c60939db63c    male   \n",
       "1  744f492e-8e7f-4a1e-a13e-d65a0f0716c4    male   \n",
       "2  cfea7257-9d98-481b-a4b2-aa8da3132cca  female   \n",
       "3  95ccf7f4-b198-4623-bcf8-45deb7f914e7    male   \n",
       "4  1ad1149b-be62-4099-8356-0e7c5f892374    male   \n",
       "\n",
       "                                           sentences  \n",
       "0  रोमान्चक बनेको खेलमा बुलबुलेले आर्मीलाई २०-२५,...  \n",
       "1  आईसीसी महिला टी-२० विश्वकपको एसिया छनोट एक महि...  \n",
       "2  आईसीसी महिला टी-२० विश्वकपको एसिया छनोट एक महि...  \n",
       "3  मैदानको वरिपरी ट्र्याक निर्माणको लागि ५ नम्बर ...  \n",
       "4  तर त्यसपछि म रियल मड्रिडका लागि धेरै राम्रो गर...  "
      ]
     },
     "execution_count": 3,
     "metadata": {},
     "output_type": "execute_result"
    }
   ],
   "source": [
    "df.head()"
   ]
  },
  {
   "cell_type": "code",
   "execution_count": 4,
   "id": "af7e421b",
   "metadata": {},
   "outputs": [
    {
     "name": "stdout",
     "output_type": "stream",
     "text": [
      "145\n"
     ]
    }
   ],
   "source": [
    "# Total number of user that have participated in data collection\n",
    "a = []\n",
    "for i in df['userId']:\n",
    "    if i not in a:\n",
    "        a.append(i)\n",
    "print(len(a))"
   ]
  },
  {
   "cell_type": "markdown",
   "id": "437d760e",
   "metadata": {},
   "source": [
    "## Converting Nepali Numbers into Devnagari number form\n",
    "For processing having sentences in numeric form makes it difficult for processing hence, numbes needs to be turned to devnagari(word format). Here, pre-created `nepali_number_to_devnagari()` function can be used."
   ]
  },
  {
   "cell_type": "code",
   "execution_count": 5,
   "id": "85dd6d4f",
   "metadata": {},
   "outputs": [],
   "source": [
    "numberList = nepali_number_to_devnagari(returnNumberList=True, returnValue=False)"
   ]
  },
  {
   "cell_type": "code",
   "execution_count": 6,
   "id": "3bf45817",
   "metadata": {},
   "outputs": [],
   "source": [
    "number = ''\n",
    "devnagariSentence = []\n",
    "for i in df['sentences']:\n",
    "    currentSentence = ''\n",
    "    for j in i:\n",
    "        if j in numberList:\n",
    "            number += j\n",
    "            continue\n",
    "        if len(number)>0:\n",
    "            currentSentence += nepali_number_to_devnagari(number, returnNumberList=False, returnValue=True)\n",
    "            number = ''\n",
    "        currentSentence += j\n",
    "    devnagariSentence.append(currentSentence)\n",
    "df['devnagariSentence'] = devnagariSentence\n",
    "df.drop('sentences', axis=1, inplace=True)\n",
    "df.to_csv('./labels/combined.csv')"
   ]
  },
  {
   "cell_type": "code",
   "execution_count": 7,
   "id": "dae58f4a",
   "metadata": {},
   "outputs": [
    {
     "data": {
      "text/html": [
       "<div>\n",
       "<style scoped>\n",
       "    .dataframe tbody tr th:only-of-type {\n",
       "        vertical-align: middle;\n",
       "    }\n",
       "\n",
       "    .dataframe tbody tr th {\n",
       "        vertical-align: top;\n",
       "    }\n",
       "\n",
       "    .dataframe thead th {\n",
       "        text-align: right;\n",
       "    }\n",
       "</style>\n",
       "<table border=\"1\" class=\"dataframe\">\n",
       "  <thead>\n",
       "    <tr style=\"text-align: right;\">\n",
       "      <th></th>\n",
       "      <th>_id</th>\n",
       "      <th>userId</th>\n",
       "      <th>fileName</th>\n",
       "      <th>gender</th>\n",
       "      <th>devnagariSentence</th>\n",
       "    </tr>\n",
       "  </thead>\n",
       "  <tbody>\n",
       "    <tr>\n",
       "      <th>0</th>\n",
       "      <td>60e2d811552fd6002e30b8fd</td>\n",
       "      <td>L5WMnUqwFRlZUFg48A4DRu9dYwP9srB5s2cqsA/rDZg=</td>\n",
       "      <td>dd42d217-11b5-4107-b8c5-8c60939db63c</td>\n",
       "      <td>male</td>\n",
       "      <td>रोमान्चक बनेको खेलमा बुलबुलेले आर्मीलाई विस-पच...</td>\n",
       "    </tr>\n",
       "    <tr>\n",
       "      <th>1</th>\n",
       "      <td>60e2d964552fd6002e30b901</td>\n",
       "      <td>4UO9IETvAMYKoPU5GhL4DRjqb5rNgF1FpAKkyXQ9v/c=</td>\n",
       "      <td>744f492e-8e7f-4a1e-a13e-d65a0f0716c4</td>\n",
       "      <td>male</td>\n",
       "      <td>आईसीसी महिला टी-विस विश्वकपको एसिया छनोट एक मह...</td>\n",
       "    </tr>\n",
       "    <tr>\n",
       "      <th>2</th>\n",
       "      <td>61ab150e7526df002f75e921</td>\n",
       "      <td>3upRZGf2oFJMajP1LMVx5vNAMKY+PdM+rIdTvmQHUus=</td>\n",
       "      <td>cfea7257-9d98-481b-a4b2-aa8da3132cca</td>\n",
       "      <td>female</td>\n",
       "      <td>आईसीसी महिला टी-विस विश्वकपको एसिया छनोट एक मह...</td>\n",
       "    </tr>\n",
       "    <tr>\n",
       "      <th>3</th>\n",
       "      <td>60e2d958552fd6002e30b8fe</td>\n",
       "      <td>zcRQLjrvRyhg0PDjjhxlGJ1PoM7deRWnvlx08Ja1Wl4=</td>\n",
       "      <td>95ccf7f4-b198-4623-bcf8-45deb7f914e7</td>\n",
       "      <td>male</td>\n",
       "      <td>मैदानको वरिपरी ट्र्याक निर्माणको लागि पाँच नम्...</td>\n",
       "    </tr>\n",
       "    <tr>\n",
       "      <th>4</th>\n",
       "      <td>60e2d98b552fd6002e30b903</td>\n",
       "      <td>4UO9IETvAMYKoPU5GhL4DRjqb5rNgF1FpAKkyXQ9v/c=</td>\n",
       "      <td>1ad1149b-be62-4099-8356-0e7c5f892374</td>\n",
       "      <td>male</td>\n",
       "      <td>तर त्यसपछि म रियल मड्रिडका लागि धेरै राम्रो गर...</td>\n",
       "    </tr>\n",
       "  </tbody>\n",
       "</table>\n",
       "</div>"
      ],
      "text/plain": [
       "                        _id                                        userId  \\\n",
       "0  60e2d811552fd6002e30b8fd  L5WMnUqwFRlZUFg48A4DRu9dYwP9srB5s2cqsA/rDZg=   \n",
       "1  60e2d964552fd6002e30b901  4UO9IETvAMYKoPU5GhL4DRjqb5rNgF1FpAKkyXQ9v/c=   \n",
       "2  61ab150e7526df002f75e921  3upRZGf2oFJMajP1LMVx5vNAMKY+PdM+rIdTvmQHUus=   \n",
       "3  60e2d958552fd6002e30b8fe  zcRQLjrvRyhg0PDjjhxlGJ1PoM7deRWnvlx08Ja1Wl4=   \n",
       "4  60e2d98b552fd6002e30b903  4UO9IETvAMYKoPU5GhL4DRjqb5rNgF1FpAKkyXQ9v/c=   \n",
       "\n",
       "                               fileName  gender  \\\n",
       "0  dd42d217-11b5-4107-b8c5-8c60939db63c    male   \n",
       "1  744f492e-8e7f-4a1e-a13e-d65a0f0716c4    male   \n",
       "2  cfea7257-9d98-481b-a4b2-aa8da3132cca  female   \n",
       "3  95ccf7f4-b198-4623-bcf8-45deb7f914e7    male   \n",
       "4  1ad1149b-be62-4099-8356-0e7c5f892374    male   \n",
       "\n",
       "                                   devnagariSentence  \n",
       "0  रोमान्चक बनेको खेलमा बुलबुलेले आर्मीलाई विस-पच...  \n",
       "1  आईसीसी महिला टी-विस विश्वकपको एसिया छनोट एक मह...  \n",
       "2  आईसीसी महिला टी-विस विश्वकपको एसिया छनोट एक मह...  \n",
       "3  मैदानको वरिपरी ट्र्याक निर्माणको लागि पाँच नम्...  \n",
       "4  तर त्यसपछि म रियल मड्रिडका लागि धेरै राम्रो गर...  "
      ]
     },
     "execution_count": 7,
     "metadata": {},
     "output_type": "execute_result"
    }
   ],
   "source": [
    "df.head()"
   ]
  },
  {
   "cell_type": "markdown",
   "id": "62a70264",
   "metadata": {},
   "source": [
    "## Appending newer data"
   ]
  },
  {
   "cell_type": "code",
   "execution_count": 3,
   "id": "74697d5b",
   "metadata": {},
   "outputs": [],
   "source": [
    "df2 = pd.read_csv('./labels/final.csv')"
   ]
  },
  {
   "cell_type": "code",
   "execution_count": 5,
   "id": "27b78fb5",
   "metadata": {},
   "outputs": [
    {
     "data": {
      "text/plain": [
       "(710, 5)"
      ]
     },
     "execution_count": 5,
     "metadata": {},
     "output_type": "execute_result"
    }
   ],
   "source": [
    "df2.shape"
   ]
  },
  {
   "cell_type": "code",
   "execution_count": 21,
   "id": "0fd9400c",
   "metadata": {},
   "outputs": [
    {
     "data": {
      "text/html": [
       "<div>\n",
       "<style scoped>\n",
       "    .dataframe tbody tr th:only-of-type {\n",
       "        vertical-align: middle;\n",
       "    }\n",
       "\n",
       "    .dataframe tbody tr th {\n",
       "        vertical-align: top;\n",
       "    }\n",
       "\n",
       "    .dataframe thead th {\n",
       "        text-align: right;\n",
       "    }\n",
       "</style>\n",
       "<table border=\"1\" class=\"dataframe\">\n",
       "  <thead>\n",
       "    <tr style=\"text-align: right;\">\n",
       "      <th></th>\n",
       "      <th>_id</th>\n",
       "      <th>userId</th>\n",
       "      <th>fileName</th>\n",
       "      <th>gender</th>\n",
       "      <th>devnagariSentence</th>\n",
       "    </tr>\n",
       "  </thead>\n",
       "  <tbody>\n",
       "    <tr>\n",
       "      <th>611</th>\n",
       "      <td>61c356a2b692600033b25b6d</td>\n",
       "      <td>MOVPpUJDH7otjjt98PfZhP/IutL34ToVt1LoaV8OAvI=</td>\n",
       "      <td>11d816d5-96aa-4d07-9cc6-1c3660820d25</td>\n",
       "      <td>male</td>\n",
       "      <td>बंगलादेशका फरवार्ड साद उद्दिनको क्रस गरेको बलम...</td>\n",
       "    </tr>\n",
       "    <tr>\n",
       "      <th>612</th>\n",
       "      <td>61c3adcdb692600033b25b6e</td>\n",
       "      <td>bngHlX9oKlh6ZUjRjewM2TWP7j4pr9sRq1T0eMZVBDQ=</td>\n",
       "      <td>f8e6b54f-575a-4871-93f6-c189acdbb69a</td>\n",
       "      <td>male</td>\n",
       "      <td>यहि चैत्र उनन्तिस–एकत्तिस गतेसम्म सातदोबाटोस्थ...</td>\n",
       "    </tr>\n",
       "    <tr>\n",
       "      <th>613</th>\n",
       "      <td>61c3adeeb692600033b25b6f</td>\n",
       "      <td>bngHlX9oKlh6ZUjRjewM2TWP7j4pr9sRq1T0eMZVBDQ=</td>\n",
       "      <td>933bb79b-4b8c-4e73-8a20-dc1486f77527</td>\n",
       "      <td>male</td>\n",
       "      <td>जर्मन फुटबल एशोसिएसनका अनुसार टेर स्टेगेनको शल...</td>\n",
       "    </tr>\n",
       "    <tr>\n",
       "      <th>614</th>\n",
       "      <td>61c3ae00b692600033b25b70</td>\n",
       "      <td>bngHlX9oKlh6ZUjRjewM2TWP7j4pr9sRq1T0eMZVBDQ=</td>\n",
       "      <td>afd3133f-2571-4f30-9a17-797ae18c2180</td>\n",
       "      <td>male</td>\n",
       "      <td>सीताले टी-विस मात्र खेल्दा हतार हुने भएकोले ला...</td>\n",
       "    </tr>\n",
       "    <tr>\n",
       "      <th>615</th>\n",
       "      <td>61c3ae12b692600033b25b71</td>\n",
       "      <td>bngHlX9oKlh6ZUjRjewM2TWP7j4pr9sRq1T0eMZVBDQ=</td>\n",
       "      <td>811dad86-4e62-4c61-9d48-326ba77adfe9</td>\n",
       "      <td>male</td>\n",
       "      <td>सुरुआती अग्रता लिएको मच्छिन्द्रको लागि पुजन उप...</td>\n",
       "    </tr>\n",
       "  </tbody>\n",
       "</table>\n",
       "</div>"
      ],
      "text/plain": [
       "                          _id                                        userId  \\\n",
       "611  61c356a2b692600033b25b6d  MOVPpUJDH7otjjt98PfZhP/IutL34ToVt1LoaV8OAvI=   \n",
       "612  61c3adcdb692600033b25b6e  bngHlX9oKlh6ZUjRjewM2TWP7j4pr9sRq1T0eMZVBDQ=   \n",
       "613  61c3adeeb692600033b25b6f  bngHlX9oKlh6ZUjRjewM2TWP7j4pr9sRq1T0eMZVBDQ=   \n",
       "614  61c3ae00b692600033b25b70  bngHlX9oKlh6ZUjRjewM2TWP7j4pr9sRq1T0eMZVBDQ=   \n",
       "615  61c3ae12b692600033b25b71  bngHlX9oKlh6ZUjRjewM2TWP7j4pr9sRq1T0eMZVBDQ=   \n",
       "\n",
       "                                 fileName gender  \\\n",
       "611  11d816d5-96aa-4d07-9cc6-1c3660820d25   male   \n",
       "612  f8e6b54f-575a-4871-93f6-c189acdbb69a   male   \n",
       "613  933bb79b-4b8c-4e73-8a20-dc1486f77527   male   \n",
       "614  afd3133f-2571-4f30-9a17-797ae18c2180   male   \n",
       "615  811dad86-4e62-4c61-9d48-326ba77adfe9   male   \n",
       "\n",
       "                                     devnagariSentence  \n",
       "611  बंगलादेशका फरवार्ड साद उद्दिनको क्रस गरेको बलम...  \n",
       "612  यहि चैत्र उनन्तिस–एकत्तिस गतेसम्म सातदोबाटोस्थ...  \n",
       "613  जर्मन फुटबल एशोसिएसनका अनुसार टेर स्टेगेनको शल...  \n",
       "614  सीताले टी-विस मात्र खेल्दा हतार हुने भएकोले ला...  \n",
       "615  सुरुआती अग्रता लिएको मच्छिन्द्रको लागि पुजन उप...  "
      ]
     },
     "execution_count": 21,
     "metadata": {},
     "output_type": "execute_result"
    }
   ],
   "source": [
    "df.iloc[df2.shape[0]+20:].head()"
   ]
  },
  {
   "cell_type": "code",
   "execution_count": 12,
   "id": "1423d731",
   "metadata": {},
   "outputs": [
    {
     "data": {
      "text/html": [
       "<div>\n",
       "<style scoped>\n",
       "    .dataframe tbody tr th:only-of-type {\n",
       "        vertical-align: middle;\n",
       "    }\n",
       "\n",
       "    .dataframe tbody tr th {\n",
       "        vertical-align: top;\n",
       "    }\n",
       "\n",
       "    .dataframe thead th {\n",
       "        text-align: right;\n",
       "    }\n",
       "</style>\n",
       "<table border=\"1\" class=\"dataframe\">\n",
       "  <thead>\n",
       "    <tr style=\"text-align: right;\">\n",
       "      <th></th>\n",
       "      <th>_id</th>\n",
       "      <th>userId</th>\n",
       "      <th>fileName</th>\n",
       "      <th>gender</th>\n",
       "      <th>devnagariSentence</th>\n",
       "    </tr>\n",
       "  </thead>\n",
       "  <tbody>\n",
       "    <tr>\n",
       "      <th>590</th>\n",
       "      <td>61c34d3bb692600033b25b6a</td>\n",
       "      <td>sbERMGnhuklA9yLoI1reL+mdg6NDufPqO2aqk+lLDwE=</td>\n",
       "      <td>49c0c60d-4b16-4784-a3d1-1bcaa687df55</td>\n",
       "      <td>male</td>\n",
       "      <td>त्यसैल अनुसार बोर्डले यूएईलाई प्रस्ताव गरेको थ...</td>\n",
       "    </tr>\n",
       "  </tbody>\n",
       "</table>\n",
       "</div>"
      ],
      "text/plain": [
       "                          _id                                        userId  \\\n",
       "590  61c34d3bb692600033b25b6a  sbERMGnhuklA9yLoI1reL+mdg6NDufPqO2aqk+lLDwE=   \n",
       "\n",
       "                                 fileName gender  \\\n",
       "590  49c0c60d-4b16-4784-a3d1-1bcaa687df55   male   \n",
       "\n",
       "                                     devnagariSentence  \n",
       "590  त्यसैल अनुसार बोर्डले यूएईलाई प्रस्ताव गरेको थ...  "
      ]
     },
     "execution_count": 12,
     "metadata": {},
     "output_type": "execute_result"
    }
   ],
   "source": [
    "df2.iloc[df2.shape[0]-1:]"
   ]
  },
  {
   "cell_type": "code",
   "execution_count": 22,
   "id": "17d77341",
   "metadata": {},
   "outputs": [],
   "source": [
    "df2 = df2.append(df.iloc[df2.shape[0]+20:])"
   ]
  },
  {
   "cell_type": "code",
   "execution_count": 23,
   "id": "f3501946",
   "metadata": {},
   "outputs": [
    {
     "data": {
      "text/plain": [
       "(712, 5)"
      ]
     },
     "execution_count": 23,
     "metadata": {},
     "output_type": "execute_result"
    }
   ],
   "source": [
    "df2.shape"
   ]
  },
  {
   "cell_type": "code",
   "execution_count": 24,
   "id": "81c0fb01",
   "metadata": {},
   "outputs": [],
   "source": [
    "df2.to_csv('./labels/final.csv', index=False)"
   ]
  },
  {
   "cell_type": "markdown",
   "id": "d7bd41ca",
   "metadata": {},
   "source": [
    "Removing the files that are not spoken correctly."
   ]
  },
  {
   "cell_type": "code",
   "execution_count": 6,
   "id": "f0c3a724",
   "metadata": {
    "scrolled": true
   },
   "outputs": [
    {
     "name": "stdout",
     "output_type": "stream",
     "text": [
      "CPU times: user 5min 31s, sys: 21 s, total: 5min 52s\n",
      "Wall time: 6min 38s\n"
     ]
    }
   ],
   "source": [
    "%%time\n",
    "total_time = 0\n",
    "count = 0\n",
    "for i in df2[\"fileName\"]:\n",
    "    filename = os.path.join(\"audioFiles\", i +\".wav\")\n",
    "    audio, _ = librosa.load(os.path.join(\"audioFiles\", i+\".wav\"))\n",
    "    total_time = total_time + librosa.get_duration(audio)\n",
    "    count = count+1"
   ]
  },
  {
   "cell_type": "code",
   "execution_count": 9,
   "id": "9b57ec8c",
   "metadata": {},
   "outputs": [
    {
     "name": "stdout",
     "output_type": "stream",
     "text": [
      "1.64 Hrs\n"
     ]
    }
   ],
   "source": [
    "time = (total_time / 60) / 60\n",
    "print(\"{:.2f} Hrs\".format(time))"
   ]
  },
  {
   "cell_type": "code",
   "execution_count": null,
   "id": "b4ea4cdd",
   "metadata": {},
   "outputs": [],
   "source": []
  }
 ],
 "metadata": {
  "interpreter": {
   "hash": "365a6f48d5b3d0e0eea84e3d03889f98664b6bd401c9deb3c1f8b38399868f29"
  },
  "kernelspec": {
   "display_name": "Python 3 (ipykernel)",
   "language": "python",
   "name": "python3"
  },
  "language_info": {
   "codemirror_mode": {
    "name": "ipython",
    "version": 3
   },
   "file_extension": ".py",
   "mimetype": "text/x-python",
   "name": "python",
   "nbconvert_exporter": "python",
   "pygments_lexer": "ipython3",
   "version": "3.9.7"
  }
 },
 "nbformat": 4,
 "nbformat_minor": 5
}
