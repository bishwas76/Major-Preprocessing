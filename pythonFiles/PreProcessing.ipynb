{
 "cells": [
  {
   "cell_type": "markdown",
   "id": "7343ca98",
   "metadata": {},
   "source": [
    "# Preprocessing of audio files\n",
    "This notebook contains preprocessing steps for audio processing."
   ]
  },
  {
   "cell_type": "markdown",
   "id": "69090142",
   "metadata": {},
   "source": [
    "## Importing required libraries"
   ]
  },
  {
   "cell_type": "code",
   "execution_count": 1,
   "id": "bdc04221",
   "metadata": {},
   "outputs": [],
   "source": [
    "import os\n",
    "import sys\n",
    "\n",
    "import numpy as np\n",
    "import pandas as pd\n",
    "\n",
    "# import custom functions\n",
    "from ipynb.fs.full.remove_zero_size_file import remove_zero_size_file\n",
    "from ipynb.fs.full.number_to_string import nepaliNumberToDevnagari"
   ]
  },
  {
   "cell_type": "markdown",
   "id": "3709eff7",
   "metadata": {},
   "source": [
    "## Removing zero size files from labels\n",
    "Initially removing unrequired zero size files from labels and adding sentence using sentenceId"
   ]
  },
  {
   "cell_type": "code",
   "execution_count": 2,
   "id": "46642853",
   "metadata": {},
   "outputs": [],
   "source": [
    "df = remove_zero_size_file()"
   ]
  },
  {
   "cell_type": "code",
   "execution_count": null,
   "id": "4dcc1f14",
   "metadata": {},
   "outputs": [],
   "source": []
  }
 ],
 "metadata": {
  "interpreter": {
   "hash": "365a6f48d5b3d0e0eea84e3d03889f98664b6bd401c9deb3c1f8b38399868f29"
  },
  "kernelspec": {
   "display_name": "Python 3",
   "language": "python",
   "name": "python3"
  },
  "language_info": {
   "codemirror_mode": {
    "name": "ipython",
    "version": 3
   },
   "file_extension": ".py",
   "mimetype": "text/x-python",
   "name": "python",
   "nbconvert_exporter": "python",
   "pygments_lexer": "ipython3",
   "version": "3.9.6"
  }
 },
 "nbformat": 4,
 "nbformat_minor": 5
}
