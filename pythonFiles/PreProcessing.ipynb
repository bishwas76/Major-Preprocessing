{
 "cells": [
  {
   "cell_type": "markdown",
   "id": "7343ca98",
   "metadata": {},
   "source": [
    "# Preprocessing of audio files\n",
    "This notebook contains preprocessing steps for audio processing."
   ]
  },
  {
   "cell_type": "markdown",
   "id": "69090142",
   "metadata": {},
   "source": [
    "## Importing required libraries"
   ]
  },
  {
   "cell_type": "code",
   "execution_count": 1,
   "id": "bdc04221",
   "metadata": {},
   "outputs": [],
   "source": [
    "import os\n",
    "import numpy as np\n",
    "import pandas as pd\n",
    "import matplotlib.pyplot as plt\n",
    "\n",
    "# For audio processing\n",
    "import librosa\n",
    "import librosa.display\n",
    "import IPython.display as ipd\n",
    "\n",
    "# import custom functions\n",
    "from modules.remove_zero_size_files import remove_zero_size_file\n",
    "from modules.number_to_string import nepali_number_to_devnagari"
   ]
  },
  {
   "cell_type": "markdown",
   "id": "3709eff7",
   "metadata": {},
   "source": [
    "## Removing zero size files from labels\n",
    "Initially removing unrequired zero size files from labels and adding sentence using sentenceId. Here, pre-created function `remove_zero_size_file()` can be used."
   ]
  },
  {
   "cell_type": "code",
   "execution_count": 3,
   "id": "46642853",
   "metadata": {},
   "outputs": [
    {
     "name": "stdout",
     "output_type": "stream",
     "text": [
      "Current File Path is:- G:\\Projects\\major-project-processing\\pythonFiles\n",
      "Path of the audioFiles is found!\n",
      "The list of the audio files found!\n",
      "The list of the audio file size found!\n",
      "Note:- Each index in file size represents same index in audio files list.\n",
      "Path of data.json:- G:\\Projects\\major-project-processing\\pythonFiles\\labels/data.json\n",
      "Path of data.json:- G:\\Projects\\major-project-processing\\pythonFiles\\labels/sentenceLabels.json\n",
      "Json file loaded!\n",
      "List of file with no zero bytes files found!\n",
      "List of file with only zero byte files found!\n",
      "The list of indexs in the files list to be removed found!\n",
      "The zero bytes files are now removed from the dataframe.\n",
      "New Dataframe creation completed!\n",
      "File is now exported to a csv file.\n"
     ]
    }
   ],
   "source": [
    "df = remove_zero_size_file(show_process=True, save_to_csv=True)"
   ]
  },
  {
   "cell_type": "code",
   "execution_count": 4,
   "id": "b2396569",
   "metadata": {},
   "outputs": [
    {
     "data": {
      "text/html": [
       "<div>\n",
       "<style scoped>\n",
       "    .dataframe tbody tr th:only-of-type {\n",
       "        vertical-align: middle;\n",
       "    }\n",
       "\n",
       "    .dataframe tbody tr th {\n",
       "        vertical-align: top;\n",
       "    }\n",
       "\n",
       "    .dataframe thead th {\n",
       "        text-align: right;\n",
       "    }\n",
       "</style>\n",
       "<table border=\"1\" class=\"dataframe\">\n",
       "  <thead>\n",
       "    <tr style=\"text-align: right;\">\n",
       "      <th></th>\n",
       "      <th>_id</th>\n",
       "      <th>userId</th>\n",
       "      <th>fileName</th>\n",
       "      <th>gender</th>\n",
       "      <th>sentences</th>\n",
       "    </tr>\n",
       "  </thead>\n",
       "  <tbody>\n",
       "    <tr>\n",
       "      <th>0</th>\n",
       "      <td>60e2d811552fd6002e30b8fd</td>\n",
       "      <td>L5WMnUqwFRlZUFg48A4DRu9dYwP9srB5s2cqsA/rDZg=</td>\n",
       "      <td>dd42d217-11b5-4107-b8c5-8c60939db63c</td>\n",
       "      <td>male</td>\n",
       "      <td>रोमान्चक बनेको खेलमा बुलबुलेले आर्मीलाई २०-२५,...</td>\n",
       "    </tr>\n",
       "    <tr>\n",
       "      <th>1</th>\n",
       "      <td>60e2d964552fd6002e30b901</td>\n",
       "      <td>4UO9IETvAMYKoPU5GhL4DRjqb5rNgF1FpAKkyXQ9v/c=</td>\n",
       "      <td>744f492e-8e7f-4a1e-a13e-d65a0f0716c4</td>\n",
       "      <td>male</td>\n",
       "      <td>आईसीसी महिला टी-२० विश्वकपको एसिया छनोट एक महि...</td>\n",
       "    </tr>\n",
       "    <tr>\n",
       "      <th>2</th>\n",
       "      <td>61ab150e7526df002f75e921</td>\n",
       "      <td>3upRZGf2oFJMajP1LMVx5vNAMKY+PdM+rIdTvmQHUus=</td>\n",
       "      <td>cfea7257-9d98-481b-a4b2-aa8da3132cca</td>\n",
       "      <td>female</td>\n",
       "      <td>आईसीसी महिला टी-२० विश्वकपको एसिया छनोट एक महि...</td>\n",
       "    </tr>\n",
       "    <tr>\n",
       "      <th>3</th>\n",
       "      <td>60e2d958552fd6002e30b8fe</td>\n",
       "      <td>zcRQLjrvRyhg0PDjjhxlGJ1PoM7deRWnvlx08Ja1Wl4=</td>\n",
       "      <td>95ccf7f4-b198-4623-bcf8-45deb7f914e7</td>\n",
       "      <td>male</td>\n",
       "      <td>कार्यक्रममा राष्ट्रिय क्रिकेट टोलीका सदस्यहरुम...</td>\n",
       "    </tr>\n",
       "    <tr>\n",
       "      <th>4</th>\n",
       "      <td>60e2d98b552fd6002e30b903</td>\n",
       "      <td>4UO9IETvAMYKoPU5GhL4DRjqb5rNgF1FpAKkyXQ9v/c=</td>\n",
       "      <td>1ad1149b-be62-4099-8356-0e7c5f892374</td>\n",
       "      <td>male</td>\n",
       "      <td>तर त्यसपछि म रियल मड्रिडका लागि धेरै राम्रो गर...</td>\n",
       "    </tr>\n",
       "  </tbody>\n",
       "</table>\n",
       "</div>"
      ],
      "text/plain": [
       "                        _id                                        userId  \\\n",
       "0  60e2d811552fd6002e30b8fd  L5WMnUqwFRlZUFg48A4DRu9dYwP9srB5s2cqsA/rDZg=   \n",
       "1  60e2d964552fd6002e30b901  4UO9IETvAMYKoPU5GhL4DRjqb5rNgF1FpAKkyXQ9v/c=   \n",
       "2  61ab150e7526df002f75e921  3upRZGf2oFJMajP1LMVx5vNAMKY+PdM+rIdTvmQHUus=   \n",
       "3  60e2d958552fd6002e30b8fe  zcRQLjrvRyhg0PDjjhxlGJ1PoM7deRWnvlx08Ja1Wl4=   \n",
       "4  60e2d98b552fd6002e30b903  4UO9IETvAMYKoPU5GhL4DRjqb5rNgF1FpAKkyXQ9v/c=   \n",
       "\n",
       "                               fileName  gender  \\\n",
       "0  dd42d217-11b5-4107-b8c5-8c60939db63c    male   \n",
       "1  744f492e-8e7f-4a1e-a13e-d65a0f0716c4    male   \n",
       "2  cfea7257-9d98-481b-a4b2-aa8da3132cca  female   \n",
       "3  95ccf7f4-b198-4623-bcf8-45deb7f914e7    male   \n",
       "4  1ad1149b-be62-4099-8356-0e7c5f892374    male   \n",
       "\n",
       "                                           sentences  \n",
       "0  रोमान्चक बनेको खेलमा बुलबुलेले आर्मीलाई २०-२५,...  \n",
       "1  आईसीसी महिला टी-२० विश्वकपको एसिया छनोट एक महि...  \n",
       "2  आईसीसी महिला टी-२० विश्वकपको एसिया छनोट एक महि...  \n",
       "3  कार्यक्रममा राष्ट्रिय क्रिकेट टोलीका सदस्यहरुम...  \n",
       "4  तर त्यसपछि म रियल मड्रिडका लागि धेरै राम्रो गर...  "
      ]
     },
     "execution_count": 4,
     "metadata": {},
     "output_type": "execute_result"
    }
   ],
   "source": [
    "df.head()"
   ]
  },
  {
   "cell_type": "code",
   "execution_count": 5,
   "id": "af7e421b",
   "metadata": {},
   "outputs": [
    {
     "name": "stdout",
     "output_type": "stream",
     "text": [
      "129\n"
     ]
    }
   ],
   "source": [
    "# Total number of user that have participated in data collection\n",
    "a = []\n",
    "for i in df['userId']:\n",
    "    if i not in a:\n",
    "        a.append(i)\n",
    "print(len(a))"
   ]
  },
  {
   "cell_type": "markdown",
   "id": "437d760e",
   "metadata": {},
   "source": [
    "## Converting Nepali Numbers into Devnagari number form\n",
    "For processing having sentences in numeric form makes it difficult for processing hence, numbes needs to be turned to devnagari(word format). Here, pre-created `nepali_number_to_devnagari()` function can be used."
   ]
  },
  {
   "cell_type": "code",
   "execution_count": 6,
   "id": "85dd6d4f",
   "metadata": {},
   "outputs": [],
   "source": [
    "numberList = nepali_number_to_devnagari(returnNumberList=True, returnValue=False)"
   ]
  },
  {
   "cell_type": "code",
   "execution_count": 7,
   "id": "3bf45817",
   "metadata": {},
   "outputs": [],
   "source": [
    "number = ''\n",
    "devnagariSentence = []\n",
    "for i in df['sentences']:\n",
    "    currentSentence = ''\n",
    "    for j in i:\n",
    "        if j in numberList:\n",
    "            number += j\n",
    "            continue\n",
    "        if len(number)>0:\n",
    "            currentSentence += nepali_number_to_devnagari(number, returnNumberList=False, returnValue=True)\n",
    "            number = ''\n",
    "        currentSentence += j\n",
    "    devnagariSentence.append(currentSentence)\n",
    "df['devnagariSentence'] = devnagariSentence\n",
    "df.drop('sentences', axis=1, inplace=True)\n",
    "# df.to_csv('./labels/final.csv')"
   ]
  },
  {
   "cell_type": "code",
   "execution_count": 8,
   "id": "dae58f4a",
   "metadata": {},
   "outputs": [
    {
     "data": {
      "text/html": [
       "<div>\n",
       "<style scoped>\n",
       "    .dataframe tbody tr th:only-of-type {\n",
       "        vertical-align: middle;\n",
       "    }\n",
       "\n",
       "    .dataframe tbody tr th {\n",
       "        vertical-align: top;\n",
       "    }\n",
       "\n",
       "    .dataframe thead th {\n",
       "        text-align: right;\n",
       "    }\n",
       "</style>\n",
       "<table border=\"1\" class=\"dataframe\">\n",
       "  <thead>\n",
       "    <tr style=\"text-align: right;\">\n",
       "      <th></th>\n",
       "      <th>_id</th>\n",
       "      <th>userId</th>\n",
       "      <th>fileName</th>\n",
       "      <th>gender</th>\n",
       "      <th>devnagariSentence</th>\n",
       "    </tr>\n",
       "  </thead>\n",
       "  <tbody>\n",
       "    <tr>\n",
       "      <th>0</th>\n",
       "      <td>60e2d811552fd6002e30b8fd</td>\n",
       "      <td>L5WMnUqwFRlZUFg48A4DRu9dYwP9srB5s2cqsA/rDZg=</td>\n",
       "      <td>dd42d217-11b5-4107-b8c5-8c60939db63c</td>\n",
       "      <td>male</td>\n",
       "      <td>रोमान्चक बनेको खेलमा बुलबुलेले आर्मीलाई विस-पच...</td>\n",
       "    </tr>\n",
       "    <tr>\n",
       "      <th>1</th>\n",
       "      <td>60e2d964552fd6002e30b901</td>\n",
       "      <td>4UO9IETvAMYKoPU5GhL4DRjqb5rNgF1FpAKkyXQ9v/c=</td>\n",
       "      <td>744f492e-8e7f-4a1e-a13e-d65a0f0716c4</td>\n",
       "      <td>male</td>\n",
       "      <td>आईसीसी महिला टी-विस विश्वकपको एसिया छनोट एक मह...</td>\n",
       "    </tr>\n",
       "    <tr>\n",
       "      <th>2</th>\n",
       "      <td>61ab150e7526df002f75e921</td>\n",
       "      <td>3upRZGf2oFJMajP1LMVx5vNAMKY+PdM+rIdTvmQHUus=</td>\n",
       "      <td>cfea7257-9d98-481b-a4b2-aa8da3132cca</td>\n",
       "      <td>female</td>\n",
       "      <td>आईसीसी महिला टी-विस विश्वकपको एसिया छनोट एक मह...</td>\n",
       "    </tr>\n",
       "    <tr>\n",
       "      <th>3</th>\n",
       "      <td>60e2d958552fd6002e30b8fe</td>\n",
       "      <td>zcRQLjrvRyhg0PDjjhxlGJ1PoM7deRWnvlx08Ja1Wl4=</td>\n",
       "      <td>95ccf7f4-b198-4623-bcf8-45deb7f914e7</td>\n",
       "      <td>male</td>\n",
       "      <td>कार्यक्रममा राष्ट्रिय क्रिकेट टोलीका सदस्यहरुम...</td>\n",
       "    </tr>\n",
       "    <tr>\n",
       "      <th>4</th>\n",
       "      <td>60e2d98b552fd6002e30b903</td>\n",
       "      <td>4UO9IETvAMYKoPU5GhL4DRjqb5rNgF1FpAKkyXQ9v/c=</td>\n",
       "      <td>1ad1149b-be62-4099-8356-0e7c5f892374</td>\n",
       "      <td>male</td>\n",
       "      <td>तर त्यसपछि म रियल मड्रिडका लागि धेरै राम्रो गर...</td>\n",
       "    </tr>\n",
       "  </tbody>\n",
       "</table>\n",
       "</div>"
      ],
      "text/plain": [
       "                        _id                                        userId  \\\n",
       "0  60e2d811552fd6002e30b8fd  L5WMnUqwFRlZUFg48A4DRu9dYwP9srB5s2cqsA/rDZg=   \n",
       "1  60e2d964552fd6002e30b901  4UO9IETvAMYKoPU5GhL4DRjqb5rNgF1FpAKkyXQ9v/c=   \n",
       "2  61ab150e7526df002f75e921  3upRZGf2oFJMajP1LMVx5vNAMKY+PdM+rIdTvmQHUus=   \n",
       "3  60e2d958552fd6002e30b8fe  zcRQLjrvRyhg0PDjjhxlGJ1PoM7deRWnvlx08Ja1Wl4=   \n",
       "4  60e2d98b552fd6002e30b903  4UO9IETvAMYKoPU5GhL4DRjqb5rNgF1FpAKkyXQ9v/c=   \n",
       "\n",
       "                               fileName  gender  \\\n",
       "0  dd42d217-11b5-4107-b8c5-8c60939db63c    male   \n",
       "1  744f492e-8e7f-4a1e-a13e-d65a0f0716c4    male   \n",
       "2  cfea7257-9d98-481b-a4b2-aa8da3132cca  female   \n",
       "3  95ccf7f4-b198-4623-bcf8-45deb7f914e7    male   \n",
       "4  1ad1149b-be62-4099-8356-0e7c5f892374    male   \n",
       "\n",
       "                                   devnagariSentence  \n",
       "0  रोमान्चक बनेको खेलमा बुलबुलेले आर्मीलाई विस-पच...  \n",
       "1  आईसीसी महिला टी-विस विश्वकपको एसिया छनोट एक मह...  \n",
       "2  आईसीसी महिला टी-विस विश्वकपको एसिया छनोट एक मह...  \n",
       "3  कार्यक्रममा राष्ट्रिय क्रिकेट टोलीका सदस्यहरुम...  \n",
       "4  तर त्यसपछि म रियल मड्रिडका लागि धेरै राम्रो गर...  "
      ]
     },
     "execution_count": 8,
     "metadata": {},
     "output_type": "execute_result"
    }
   ],
   "source": [
    "df.head()"
   ]
  },
  {
   "cell_type": "markdown",
   "id": "62a70264",
   "metadata": {},
   "source": [
    "## Checking audio files\n",
    "Checking audio files for it's speech and it's accuracy with the labels"
   ]
  },
  {
   "cell_type": "code",
   "execution_count": 2,
   "id": "74697d5b",
   "metadata": {},
   "outputs": [],
   "source": [
    "df = pd.read_csv('./labels/final.csv')"
   ]
  },
  {
   "cell_type": "code",
   "execution_count": 3,
   "id": "f3501946",
   "metadata": {},
   "outputs": [
    {
     "data": {
      "text/plain": [
       "(563, 5)"
      ]
     },
     "execution_count": 3,
     "metadata": {},
     "output_type": "execute_result"
    }
   ],
   "source": [
    "df.shape"
   ]
  },
  {
   "cell_type": "code",
   "execution_count": 4,
   "id": "8ec09310",
   "metadata": {},
   "outputs": [
    {
     "data": {
      "text/html": [
       "<div>\n",
       "<style scoped>\n",
       "    .dataframe tbody tr th:only-of-type {\n",
       "        vertical-align: middle;\n",
       "    }\n",
       "\n",
       "    .dataframe tbody tr th {\n",
       "        vertical-align: top;\n",
       "    }\n",
       "\n",
       "    .dataframe thead th {\n",
       "        text-align: right;\n",
       "    }\n",
       "</style>\n",
       "<table border=\"1\" class=\"dataframe\">\n",
       "  <thead>\n",
       "    <tr style=\"text-align: right;\">\n",
       "      <th></th>\n",
       "      <th>_id</th>\n",
       "      <th>userId</th>\n",
       "      <th>fileName</th>\n",
       "      <th>gender</th>\n",
       "      <th>devnagariSentence</th>\n",
       "    </tr>\n",
       "  </thead>\n",
       "  <tbody>\n",
       "    <tr>\n",
       "      <th>0</th>\n",
       "      <td>60e2d811552fd6002e30b8fd</td>\n",
       "      <td>L5WMnUqwFRlZUFg48A4DRu9dYwP9srB5s2cqsA/rDZg=</td>\n",
       "      <td>dd42d217-11b5-4107-b8c5-8c60939db63c</td>\n",
       "      <td>male</td>\n",
       "      <td>रोमान्चक बनेको खेलमा बुलबुलेले आर्मीलाई विस-पच...</td>\n",
       "    </tr>\n",
       "    <tr>\n",
       "      <th>1</th>\n",
       "      <td>60e2d964552fd6002e30b901</td>\n",
       "      <td>4UO9IETvAMYKoPU5GhL4DRjqb5rNgF1FpAKkyXQ9v/c=</td>\n",
       "      <td>744f492e-8e7f-4a1e-a13e-d65a0f0716c4</td>\n",
       "      <td>male</td>\n",
       "      <td>आईसीसी महिला टी-विस विश्वकपको एसिया छनोट एक मह...</td>\n",
       "    </tr>\n",
       "    <tr>\n",
       "      <th>2</th>\n",
       "      <td>61ab150e7526df002f75e921</td>\n",
       "      <td>3upRZGf2oFJMajP1LMVx5vNAMKY+PdM+rIdTvmQHUus=</td>\n",
       "      <td>cfea7257-9d98-481b-a4b2-aa8da3132cca</td>\n",
       "      <td>female</td>\n",
       "      <td>आईसीसी महिला टी-विस विश्वकपको एसिया छनोट एक मह...</td>\n",
       "    </tr>\n",
       "    <tr>\n",
       "      <th>3</th>\n",
       "      <td>60e2d958552fd6002e30b8fe</td>\n",
       "      <td>zcRQLjrvRyhg0PDjjhxlGJ1PoM7deRWnvlx08Ja1Wl4=</td>\n",
       "      <td>95ccf7f4-b198-4623-bcf8-45deb7f914e7</td>\n",
       "      <td>male</td>\n",
       "      <td>कार्यक्रममा राष्ट्रिय क्रिकेट टोलीका सदस्यहरुम...</td>\n",
       "    </tr>\n",
       "    <tr>\n",
       "      <th>4</th>\n",
       "      <td>60e2d98b552fd6002e30b903</td>\n",
       "      <td>4UO9IETvAMYKoPU5GhL4DRjqb5rNgF1FpAKkyXQ9v/c=</td>\n",
       "      <td>1ad1149b-be62-4099-8356-0e7c5f892374</td>\n",
       "      <td>male</td>\n",
       "      <td>तर त्यसपछि म रियल मड्रिडका लागि धेरै राम्रो गर...</td>\n",
       "    </tr>\n",
       "  </tbody>\n",
       "</table>\n",
       "</div>"
      ],
      "text/plain": [
       "                        _id                                        userId  \\\n",
       "0  60e2d811552fd6002e30b8fd  L5WMnUqwFRlZUFg48A4DRu9dYwP9srB5s2cqsA/rDZg=   \n",
       "1  60e2d964552fd6002e30b901  4UO9IETvAMYKoPU5GhL4DRjqb5rNgF1FpAKkyXQ9v/c=   \n",
       "2  61ab150e7526df002f75e921  3upRZGf2oFJMajP1LMVx5vNAMKY+PdM+rIdTvmQHUus=   \n",
       "3  60e2d958552fd6002e30b8fe  zcRQLjrvRyhg0PDjjhxlGJ1PoM7deRWnvlx08Ja1Wl4=   \n",
       "4  60e2d98b552fd6002e30b903  4UO9IETvAMYKoPU5GhL4DRjqb5rNgF1FpAKkyXQ9v/c=   \n",
       "\n",
       "                               fileName  gender  \\\n",
       "0  dd42d217-11b5-4107-b8c5-8c60939db63c    male   \n",
       "1  744f492e-8e7f-4a1e-a13e-d65a0f0716c4    male   \n",
       "2  cfea7257-9d98-481b-a4b2-aa8da3132cca  female   \n",
       "3  95ccf7f4-b198-4623-bcf8-45deb7f914e7    male   \n",
       "4  1ad1149b-be62-4099-8356-0e7c5f892374    male   \n",
       "\n",
       "                                   devnagariSentence  \n",
       "0  रोमान्चक बनेको खेलमा बुलबुलेले आर्मीलाई विस-पच...  \n",
       "1  आईसीसी महिला टी-विस विश्वकपको एसिया छनोट एक मह...  \n",
       "2  आईसीसी महिला टी-विस विश्वकपको एसिया छनोट एक मह...  \n",
       "3  कार्यक्रममा राष्ट्रिय क्रिकेट टोलीका सदस्यहरुम...  \n",
       "4  तर त्यसपछि म रियल मड्रिडका लागि धेरै राम्रो गर...  "
      ]
     },
     "execution_count": 4,
     "metadata": {},
     "output_type": "execute_result"
    }
   ],
   "source": [
    "df.head()"
   ]
  },
  {
   "cell_type": "code",
   "execution_count": 9,
   "id": "6e3d2c3d",
   "metadata": {},
   "outputs": [
    {
     "name": "stdout",
     "output_type": "stream",
     "text": [
      "male\n",
      "dd87c472-27c7-4558-9d47-1e22bc0e2c16.wav\n",
      "पानी पर्न छाडेपछि तेह्र ओभरमा खेल घटाएर पुनः शुरु गरिएको हो\n"
     ]
    },
    {
     "data": {
      "text/html": [
       "\n",
       "                <audio  controls=\"controls\" autoplay=\"autoplay\">\n",
       "                    <source src=\"data:audio/x-wav;base64,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\" type=\"audio/x-wav\" />\n",
       "                    Your browser does not support the audio element.\n",
       "                </audio>\n",
       "              "
      ],
      "text/plain": [
       "<IPython.lib.display.Audio object>"
      ]
     },
     "execution_count": 9,
     "metadata": {},
     "output_type": "execute_result"
    }
   ],
   "source": [
    "number = 130\n",
    "row = df.iloc[number]\n",
    "filename = os.path.join(\"audioFiles\", row[\"fileName\"] + \".wav\")\n",
    "print(row[\"gender\"])\n",
    "print(row[\"fileName\"] + \".wav\")\n",
    "print(row[\"devnagariSentence\"])\n",
    "ipd.Audio(filename, autoplay=True)"
   ]
  },
  {
   "cell_type": "code",
   "execution_count": 18,
   "id": "6624b517",
   "metadata": {},
   "outputs": [],
   "source": [
    "# df.drop(index=number, axis=0, inplace=True)"
   ]
  },
  {
   "cell_type": "code",
   "execution_count": 9,
   "id": "81c0fb01",
   "metadata": {},
   "outputs": [],
   "source": [
    "df.to_csv('./labels/final.csv', index=False)"
   ]
  },
  {
   "cell_type": "markdown",
   "id": "d7bd41ca",
   "metadata": {},
   "source": [
    "Removing the files that are not spoken correctly."
   ]
  },
  {
   "cell_type": "code",
   "execution_count": 11,
   "id": "f0c3a724",
   "metadata": {
    "scrolled": true
   },
   "outputs": [
    {
     "name": "stdout",
     "output_type": "stream",
     "text": [
      "Wall time: 7min 56s\n"
     ]
    }
   ],
   "source": [
    "%%time\n",
    "total_time = 0\n",
    "count = 0\n",
    "for i in df[\"fileName\"]:\n",
    "    filename = os.path.join(\"audioFiles\", i +\".wav\")\n",
    "    audio, _ = librosa.load(os.path.join(\"audioFiles\", i+\".wav\"))\n",
    "    total_time = total_time + librosa.get_duration(audio)\n",
    "    count = count+1"
   ]
  },
  {
   "cell_type": "code",
   "execution_count": 12,
   "id": "9b57ec8c",
   "metadata": {},
   "outputs": [
    {
     "name": "stdout",
     "output_type": "stream",
     "text": [
      "1.2920378054925663 Hrs\n"
     ]
    }
   ],
   "source": [
    "time = (total_time / 60) / 60\n",
    "print(\"{} Hrs\".format(time))"
   ]
  },
  {
   "cell_type": "code",
   "execution_count": 13,
   "id": "5e794c1c",
   "metadata": {},
   "outputs": [
    {
     "name": "stdout",
     "output_type": "stream",
     "text": [
      "a\n"
     ]
    }
   ],
   "source": [
    "a = input()"
   ]
  },
  {
   "cell_type": "code",
   "execution_count": null,
   "id": "b4ea4cdd",
   "metadata": {},
   "outputs": [],
   "source": []
  }
 ],
 "metadata": {
  "interpreter": {
   "hash": "365a6f48d5b3d0e0eea84e3d03889f98664b6bd401c9deb3c1f8b38399868f29"
  },
  "kernelspec": {
   "display_name": "Python 3 (ipykernel)",
   "language": "python",
   "name": "python3"
  },
  "language_info": {
   "codemirror_mode": {
    "name": "ipython",
    "version": 3
   },
   "file_extension": ".py",
   "mimetype": "text/x-python",
   "name": "python",
   "nbconvert_exporter": "python",
   "pygments_lexer": "ipython3",
   "version": "3.9.7"
  }
 },
 "nbformat": 4,
 "nbformat_minor": 5
}
